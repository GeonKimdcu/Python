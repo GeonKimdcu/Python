{
 "cells": [
  {
   "cell_type": "markdown",
   "metadata": {},
   "source": [
    "# 04-3 파일 읽고 쓰기"
   ]
  },
  {
   "cell_type": "markdown",
   "metadata": {},
   "source": [
    "### 1. 파일 생성하기"
   ]
  },
  {
   "cell_type": "markdown",
   "metadata": {},
   "source": [
    "#### f = open(\"새파일.txt\", 'w')\n",
    "#### f.close()"
   ]
  },
  {
   "cell_type": "markdown",
   "metadata": {},
   "source": [
    "#### r - \"읽기모드\"   ,  w - \"쓰기모드\"      ,  a - \"추가 모드\""
   ]
  },
  {
   "cell_type": "markdown",
   "metadata": {},
   "source": [
    "### 2. 파일을 쓰기 모드로 열어 출력값 적기"
   ]
  },
  {
   "cell_type": "code",
   "execution_count": 13,
   "metadata": {},
   "outputs": [],
   "source": [
    "# writedata.py\n",
    "f = open(\"doit/newfile.txt\", 'w')\n",
    "for i in range(1,11):\n",
    "    data = \"%d번째 줄입니다.\\n\" % i\n",
    "    f.write(data)  # data를 파일 객체 f에 써라\n",
    "f.close() "
   ]
  },
  {
   "cell_type": "markdown",
   "metadata": {},
   "source": [
    "#### f.close()를 생략하더라도 프로그램 종료 시 파이썬 프로그램이 열려있는 파일의 객체를 자동으로 닫아 줌\n",
    "#### 쓰기 모드로 열었던 파일을 닫지 않고 다시 사용하려고 하면 오류 발생"
   ]
  },
  {
   "cell_type": "markdown",
   "metadata": {},
   "source": [
    "### 3. 프로그램의 외부에 저장된 파일을 읽는 여러 가지 방법"
   ]
  },
  {
   "cell_type": "markdown",
   "metadata": {},
   "source": [
    "#### 파일의 첫 번째 줄을 읽어서 출력\n",
    "#### readline( )은 더 이상 읽을 줄이 없을 경우 None을 출력"
   ]
  },
  {
   "cell_type": "code",
   "execution_count": 22,
   "metadata": {},
   "outputs": [
    {
     "name": "stdout",
     "output_type": "stream",
     "text": [
      "1번째 줄입니다.\n",
      "\n"
     ]
    }
   ],
   "source": [
    "# readline.py\n",
    "\n",
    "f = open(\"doit/newfile.txt\", 'r')   # 읽기 모드\n",
    "line = f.readline()    # 첫 번째 줄을 읽어 출력\n",
    "print(line)\n",
    "f.close()"
   ]
  },
  {
   "cell_type": "code",
   "execution_count": 24,
   "metadata": {},
   "outputs": [
    {
     "name": "stdout",
     "output_type": "stream",
     "text": [
      "1번째 줄\n"
     ]
    }
   ],
   "source": [
    "# readline.py\n",
    "\n",
    "f = open(\"doit/newfile.txt\", 'r')   # 읽기 모드\n",
    "line = f.readline(5) # 숫자를 넣으면 인덱스 값 만큼 출력 5는 출력x, 4까지 출력\n",
    "print(line)\n",
    "f.close()"
   ]
  },
  {
   "cell_type": "code",
   "execution_count": 26,
   "metadata": {},
   "outputs": [
    {
     "name": "stdout",
     "output_type": "stream",
     "text": [
      "1번째 줄입니다.\n",
      "\n",
      "2번째 줄입니다.\n",
      "\n",
      "3번째 줄입니다.\n",
      "\n",
      "4번째 줄입니다.\n",
      "\n",
      "5번째 줄입니다.\n",
      "\n",
      "6번째 줄입니다.\n",
      "\n",
      "7번째 줄입니다.\n",
      "\n",
      "8번째 줄입니다.\n",
      "\n",
      "9번째 줄입니다.\n",
      "\n",
      "10번째 줄입니다.\n",
      "\n"
     ]
    }
   ],
   "source": [
    "# readline_all.py   모든 줄을 출력\n",
    "\n",
    "f = open(\"doit/newfile.txt\", 'r')   # 읽기 모드\n",
    "while True:\n",
    "    line = f.readline()    # 첫 번째 줄을 읽어 출력\n",
    "    if not line: break\n",
    "    print(line)\n",
    "f.close()"
   ]
  },
  {
   "cell_type": "code",
   "execution_count": 2,
   "metadata": {},
   "outputs": [
    {
     "name": "stdout",
     "output_type": "stream",
     "text": [
      "1번째 줄입니다.\n",
      "1번째 줄입니다.\n",
      "2번째 줄입니다.\n",
      "2번째 줄입니다.\n",
      "\n"
     ]
    }
   ],
   "source": [
    "while 1:\n",
    "    data = input()  # 1번 출력\n",
    "    if not data: break\n",
    "    print(data)     # 2번 출력"
   ]
  },
  {
   "cell_type": "code",
   "execution_count": 9,
   "metadata": {},
   "outputs": [
    {
     "name": "stdout",
     "output_type": "stream",
     "text": [
      "1번째 줄입니다.\n",
      "\n",
      "2번째 줄입니다.\n",
      "\n",
      "3번째 줄입니다.\n",
      "\n",
      "4번째 줄입니다.\n",
      "\n",
      "5번째 줄입니다.\n",
      "\n",
      "6번째 줄입니다.\n",
      "\n",
      "7번째 줄입니다.\n",
      "\n",
      "8번째 줄입니다.\n",
      "\n",
      "9번째 줄입니다.\n",
      "\n",
      "10번째 줄입니다.\n",
      "\n",
      "<class 'str'>\n"
     ]
    }
   ],
   "source": [
    "# readlines.py\n",
    "\n",
    "f = open(\"doit/newfile.txt\", 'r')\n",
    "lines = f.readlines()  # 파일의 모든 줄을 읽어들임\n",
    "for line in lines:\n",
    "    print(line)\n",
    "    f.close()\n",
    "print(type(line))"
   ]
  },
  {
   "cell_type": "code",
   "execution_count": 8,
   "metadata": {},
   "outputs": [
    {
     "name": "stdout",
     "output_type": "stream",
     "text": [
      "1번째 줄입니다.\n",
      "2번째 줄입니다.\n",
      "3번째 줄입니다.\n",
      "4번째 줄입니다.\n",
      "5번째 줄입니다.\n",
      "6번째 줄입니다.\n",
      "7번째 줄입니다.\n",
      "8번째 줄입니다.\n",
      "9번째 줄입니다.\n",
      "10번째 줄입니다.\n",
      "\n",
      "<class 'str'>\n"
     ]
    }
   ],
   "source": [
    "# read.py\n",
    "\n",
    "f = open(\"doit/newfile.txt\", 'r')\n",
    "data = f.read() # 파일의 내용 전체를 문자열로 반환\n",
    "print(data)\n",
    "f.close()\n",
    "print(type(data))"
   ]
  },
  {
   "cell_type": "markdown",
   "metadata": {},
   "source": [
    "### 4. 파일에 새로운 내용 추가하기"
   ]
  },
  {
   "cell_type": "code",
   "execution_count": 10,
   "metadata": {},
   "outputs": [],
   "source": [
    "# apptata.py\n",
    "\n",
    "f = open(\"doit/newfile.txt\", 'a')\n",
    "for i in range(11, 20):\n",
    "    data = \"%d 번째 줄입니다.\\n\" % i\n",
    "    f.write(data)\n",
    "f.close()"
   ]
  },
  {
   "cell_type": "markdown",
   "metadata": {},
   "source": [
    "### 5. with문과 함께 사용하기\n",
    "- with문을 사용하면 구문이 종료될 때 파일을 자동으로 닫음\n",
    "- f.close()기능을 자동으로 수행"
   ]
  },
  {
   "cell_type": "code",
   "execution_count": 1,
   "metadata": {},
   "outputs": [],
   "source": [
    "f = open(\"foo.txt\", 'w')\n",
    "f.write(\"Life is too short, you need python\")\n",
    "f.close()"
   ]
  },
  {
   "cell_type": "code",
   "execution_count": 2,
   "metadata": {},
   "outputs": [],
   "source": [
    "# 같은 코드\n",
    "\n",
    "with open(\"foo.txt\", 'w') as f:\n",
    "    f.write(\"Life is too short, you need python\")"
   ]
  },
  {
   "cell_type": "markdown",
   "metadata": {},
   "source": [
    "### 6. sys모듈로 매개변수 추가\n",
    "- 명령 프롬프트 창에서 매개변수를 직접 입력하여 프로그램을 실행하는 방식(cmd: type a.txt)\n",
    "- 명령 프롬프트 명령어 [인수1, 인수2 ...]\n",
    "- sys모듈을 사용하여 매개변수 직접 입력 가능: import sys"
   ]
  },
  {
   "cell_type": "code",
   "execution_count": 6,
   "metadata": {},
   "outputs": [
    {
     "name": "stdout",
     "output_type": "stream",
     "text": [
      "-f\n",
      "C:\\Users\\geon0\\AppData\\Roaming\\jupyter\\runtime\\kernel-06a299cc-0ac6-47a3-ae23-2db88582476b.json\n"
     ]
    }
   ],
   "source": [
    "# sys1.py\n",
    "\n",
    "import sys\n",
    "\n",
    "args = sys.argv[1:]\n",
    "for i in args:\n",
    "    print(i)\n",
    "    \n",
    "# python sys1.py aaa bbb ccc"
   ]
  },
  {
   "cell_type": "markdown",
   "metadata": {},
   "source": [
    "### p.180 연습문제 Q5"
   ]
  },
  {
   "cell_type": "code",
   "execution_count": 18,
   "metadata": {},
   "outputs": [
    {
     "name": "stdout",
     "output_type": "stream",
     "text": [
      "Life is too short\n"
     ]
    }
   ],
   "source": [
    "f1 = open(\"test.txt\", 'w')\n",
    "f1.write(\"Life is too short\")\n",
    "f1.close()  # 파일을 닫지 않은 상태에서 다시 열면 파일에 저장한 데이터를 불러들일 수 없음\n",
    "\n",
    "f2 = open(\"test.txt\", 'r')\n",
    "print(f2.read())\n",
    "f2.close()"
   ]
  },
  {
   "cell_type": "code",
   "execution_count": null,
   "metadata": {},
   "outputs": [],
   "source": [
    "# 위와 같은 코드\n",
    "\n",
    "with open(\"test.txt\", 'w')as f1:\n",
    "    f1.write(\"Life is too short!\")\n",
    "    \n",
    "with = open(\"test.txt\", 'r)'"
   ]
  },
  {
   "cell_type": "markdown",
   "metadata": {},
   "source": [
    "### p.181 연습문제 Q6."
   ]
  },
  {
   "cell_type": "code",
   "execution_count": 26,
   "metadata": {},
   "outputs": [
    {
     "name": "stdout",
     "output_type": "stream",
     "text": [
      "저장할 내용을 입력하세요: 하이\n"
     ]
    }
   ],
   "source": [
    "user_input = input(\"저장할 내용을 입력하세요: \")\n",
    "f = open(\"test.txt\",'a') # 작성 내용 유지한채로 새로 입력한 내용 추가위해 'a'사용\n",
    "f.write(user_input)\n",
    "f.write(\"\\n\") # 입력한 내용을 줄 단위로 구분하기 위해 줄 바꿈 문자 삽입\n",
    "f.close()"
   ]
  },
  {
   "cell_type": "markdown",
   "metadata": {},
   "source": [
    "### p.181 연습문제 Q7."
   ]
  },
  {
   "cell_type": "code",
   "execution_count": 17,
   "metadata": {},
   "outputs": [],
   "source": [
    "f = open('test.txt', 'r')\n",
    "body = f.read()   # test.txt파일의 내용을 body에 저장\n",
    "f.close()\n",
    "\n",
    "body = body.replace('java', 'python')  # body 문자열에서 \"java\"를  \"python\"으로 변경\n",
    "\n",
    "f = open('test.txt', 'w') # 파일을 쓰기모드로 실행하여 저장\n",
    "f.write(body)\n",
    "f.close()"
   ]
  }
 ],
 "metadata": {
  "kernelspec": {
   "display_name": "Python [conda env:pyLab36] *",
   "language": "python",
   "name": "conda-env-pyLab36-py"
  },
  "language_info": {
   "codemirror_mode": {
    "name": "ipython",
    "version": 3
   },
   "file_extension": ".py",
   "mimetype": "text/x-python",
   "name": "python",
   "nbconvert_exporter": "python",
   "pygments_lexer": "ipython3",
   "version": "3.6.9"
  }
 },
 "nbformat": 4,
 "nbformat_minor": 2
}
