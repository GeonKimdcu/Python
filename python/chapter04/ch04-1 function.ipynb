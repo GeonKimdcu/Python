{
 "cells": [
  {
   "cell_type": "markdown",
   "metadata": {},
   "source": [
    "# 04-1 함수"
   ]
  },
  {
   "cell_type": "markdown",
   "metadata": {},
   "source": [
    "### 함수 구조\n",
    "#### def add(a, b):\n",
    "####      return a + b"
   ]
  },
  {
   "cell_type": "markdown",
   "metadata": {},
   "source": [
    "### 1. 매개변수와 인수"
   ]
  },
  {
   "cell_type": "code",
   "execution_count": 24,
   "metadata": {},
   "outputs": [
    {
     "name": "stdout",
     "output_type": "stream",
     "text": [
      "7\n"
     ]
    }
   ],
   "source": [
    "def add(a, b):    # a, b는 매개변수\n",
    "    return a + b\n",
    "\n",
    "print(add(3,4))   # 3, 4는 인수"
   ]
  },
  {
   "cell_type": "markdown",
   "metadata": {},
   "source": [
    "### 2. 입력값이 없는 함수"
   ]
  },
  {
   "cell_type": "code",
   "execution_count": 25,
   "metadata": {},
   "outputs": [
    {
     "name": "stdout",
     "output_type": "stream",
     "text": [
      "Hi\n"
     ]
    }
   ],
   "source": [
    "def say():\n",
    "    return 'Hi'\n",
    "\n",
    "a = say()\n",
    "print(a)"
   ]
  },
  {
   "cell_type": "markdown",
   "metadata": {},
   "source": [
    "### 3. 결과값이 없는 함수"
   ]
  },
  {
   "cell_type": "code",
   "execution_count": 27,
   "metadata": {},
   "outputs": [
    {
     "name": "stdout",
     "output_type": "stream",
     "text": [
      "3, 4의 합은 7입니다.\n"
     ]
    }
   ],
   "source": [
    "def sum(a,b):\n",
    "    print(\"%d, %d의 합은 %d입니다.\" %(a, b, a+b))\n",
    "\n",
    "sum(3,4)"
   ]
  },
  {
   "cell_type": "markdown",
   "metadata": {},
   "source": [
    "### 4. 입력값도 결과값도 없는 함수"
   ]
  },
  {
   "cell_type": "code",
   "execution_count": 28,
   "metadata": {},
   "outputs": [
    {
     "name": "stdout",
     "output_type": "stream",
     "text": [
      "Hi\n"
     ]
    }
   ],
   "source": [
    "def say():\n",
    "    print('Hi')\n",
    "    \n",
    "say()"
   ]
  },
  {
   "cell_type": "markdown",
   "metadata": {},
   "source": [
    "### 5. 매개변수 지정하여 호출하기"
   ]
  },
  {
   "cell_type": "code",
   "execution_count": 29,
   "metadata": {},
   "outputs": [],
   "source": [
    "def add(a, b):\n",
    "    return a+b"
   ]
  },
  {
   "cell_type": "code",
   "execution_count": 30,
   "metadata": {},
   "outputs": [
    {
     "name": "stdout",
     "output_type": "stream",
     "text": [
      "10\n"
     ]
    }
   ],
   "source": [
    "result = add(a = 3, b = 7)\n",
    "print(result)"
   ]
  },
  {
   "cell_type": "code",
   "execution_count": 31,
   "metadata": {},
   "outputs": [
    {
     "name": "stdout",
     "output_type": "stream",
     "text": [
      "8\n"
     ]
    }
   ],
   "source": [
    "result = add(b = 5, a = 3)\n",
    "print(result)"
   ]
  },
  {
   "cell_type": "markdown",
   "metadata": {},
   "source": [
    "### 6. 여러 개의 입력값"
   ]
  },
  {
   "cell_type": "code",
   "execution_count": 32,
   "metadata": {},
   "outputs": [
    {
     "name": "stdout",
     "output_type": "stream",
     "text": [
      "6\n"
     ]
    }
   ],
   "source": [
    "def add_many(*args):\n",
    "    add = 0\n",
    "    for i in args:\n",
    "        add = add + i\n",
    "    return add\n",
    "\n",
    "result = add_many(1,2,3)\n",
    "print(result)"
   ]
  },
  {
   "cell_type": "code",
   "execution_count": 33,
   "metadata": {},
   "outputs": [
    {
     "name": "stdout",
     "output_type": "stream",
     "text": [
      "55\n"
     ]
    }
   ],
   "source": [
    "result = add_many(1,2,3,4,5,6,7,8,9,10)\n",
    "print(result)"
   ]
  },
  {
   "cell_type": "markdown",
   "metadata": {},
   "source": [
    "### 7. 키워드 파라미터"
   ]
  },
  {
   "cell_type": "code",
   "execution_count": 4,
   "metadata": {},
   "outputs": [
    {
     "name": "stdout",
     "output_type": "stream",
     "text": [
      "{'a': 1}\n",
      "{'name': 'foo', 'age': 3}\n"
     ]
    }
   ],
   "source": [
    "# 매개변수 앞에 별 두개 **를 붙이면, 매개변수는 딕셔너리가 됨\n",
    "# 모든 key = value 형태의 결과값이 그 딕셔너리에 저장\n",
    "def print_kwargs(**kwargs):\n",
    "    print(kwargs)\n",
    "    \n",
    "print_kwargs(a=1)\n",
    "print_kwargs(name='foo', age=3)"
   ]
  },
  {
   "cell_type": "markdown",
   "metadata": {},
   "source": [
    "### 8. 함수의 결과값은 언제나 하나이다"
   ]
  },
  {
   "cell_type": "code",
   "execution_count": 8,
   "metadata": {},
   "outputs": [
    {
     "data": {
      "text/plain": [
       "(7, 12)"
      ]
     },
     "execution_count": 8,
     "metadata": {},
     "output_type": "execute_result"
    }
   ],
   "source": [
    "def add_and_mul(a,b):\n",
    "    return a+b, a*b\n",
    "\n",
    "result = add_and_mul(3,4)\n",
    "result # 튜플 값 반환"
   ]
  },
  {
   "cell_type": "code",
   "execution_count": 13,
   "metadata": {},
   "outputs": [
    {
     "name": "stdout",
     "output_type": "stream",
     "text": [
      "7\n",
      "12\n"
     ]
    }
   ],
   "source": [
    "# 하나의 튜플 값을 2개의 결과값처럼 받고 싶을 때\n",
    "add, mul = add_and_mul(3,4)\n",
    "print(add)\n",
    "print(mul)"
   ]
  },
  {
   "cell_type": "code",
   "execution_count": 14,
   "metadata": {},
   "outputs": [
    {
     "name": "stdout",
     "output_type": "stream",
     "text": [
      "5\n"
     ]
    }
   ],
   "source": [
    "# return문을 만나는 순간 결과값을 반환 후 함수를 빠져나감\n",
    "def add_and_mul(a,b):\n",
    "    return a+b\n",
    "    return a*b   # 두 번째 return문은 실행되지 않음\n",
    "\n",
    "result = add_and_mul(2,3)\n",
    "print(result)"
   ]
  },
  {
   "cell_type": "code",
   "execution_count": 16,
   "metadata": {},
   "outputs": [
    {
     "name": "stdout",
     "output_type": "stream",
     "text": [
      "나의 별명은 야호입니다.\n"
     ]
    }
   ],
   "source": [
    "# 함수를 빠져나가는 방법으로 return문 사용\n",
    "def say_nick(nick):\n",
    "    if nick == \"바보\":\n",
    "        return\n",
    "    print(\"나의 별명은 %s입니다.\" % nick)\n",
    "    \n",
    "say_nick('야호')\n",
    "say_nick('바보') # '바보'라는 값이 들어오면 문자열 출력x 함수 즉시 빠져나감"
   ]
  },
  {
   "cell_type": "markdown",
   "metadata": {},
   "source": [
    "### 9. 입력 인수에 초깃값 미리 설정하기"
   ]
  },
  {
   "cell_type": "code",
   "execution_count": 17,
   "metadata": {},
   "outputs": [
    {
     "name": "stdout",
     "output_type": "stream",
     "text": [
      "나의 이름은 김건 입니다.\n",
      "나이는 23살 입니다.\n",
      "남자입니다.\n",
      "나의 이름은 김건 입니다.\n",
      "나이는 23살 입니다.\n",
      "남자입니다.\n",
      "나의 이름은 하민지 입니다.\n",
      "나이는 23살 입니다.\n",
      "여자입니다.\n"
     ]
    }
   ],
   "source": [
    "def say_myself(name, old, man=True):\n",
    "    print(\"나의 이름은 %s 입니다.\" % name)\n",
    "    print(\"나이는 %d살 입니다.\" % old)\n",
    "    if man:\n",
    "        print(\"남자입니다.\")\n",
    "    else:\n",
    "        print(\"여자입니다.\")\n",
    "        \n",
    "say_myself(\"김건\", 23)\n",
    "say_myself(\"김건\", 23, True)\n",
    "say_myself(\"하민지\", 23, False)"
   ]
  },
  {
   "cell_type": "code",
   "execution_count": 18,
   "metadata": {},
   "outputs": [
    {
     "ename": "SyntaxError",
     "evalue": "non-default argument follows default argument (<ipython-input-18-233c3574dc4a>, line 2)",
     "output_type": "error",
     "traceback": [
      "\u001b[1;36m  File \u001b[1;32m\"<ipython-input-18-233c3574dc4a>\"\u001b[1;36m, line \u001b[1;32m2\u001b[0m\n\u001b[1;33m    def say_myself(name, man=True, old):\u001b[0m\n\u001b[1;37m                  ^\u001b[0m\n\u001b[1;31mSyntaxError\u001b[0m\u001b[1;31m:\u001b[0m non-default argument follows default argument\n"
     ]
    }
   ],
   "source": [
    "# 주의 사항\n",
    "def say_myself(name, man=True, old):\n",
    "    print(\"나의 이름은 %s 입니다.\" % name)\n",
    "    print(\"나이는 %d살입니다.\" % old)\n",
    "    if man:\n",
    "        print(\"남자입니다.\")\n",
    "    else:\n",
    "        print(\"여자입니다.\")\n",
    "        \n",
    "say_myself(\"박응용\", 27)\n",
    "# 초기값을 설정한 매개변수의 위치는 항상 뒤쪽\n",
    "# 파이썬 인터프리터는 27을 man 변수와 old 변수 중 어느 곳에 \n",
    "# 대입해야 할지 알 수 없음"
   ]
  },
  {
   "cell_type": "markdown",
   "metadata": {},
   "source": [
    "### 10. 함수 안에서 선언된 변수의 효력 범위"
   ]
  },
  {
   "cell_type": "code",
   "execution_count": 1,
   "metadata": {},
   "outputs": [
    {
     "name": "stdout",
     "output_type": "stream",
     "text": [
      "None\n",
      "1\n"
     ]
    }
   ],
   "source": [
    "# 매개변수는 함수 안에서만 사용하는 함수만의 변수(지역변수)\n",
    "\n",
    "a = 1   # 전역변수\n",
    "def vartest(a):\n",
    "    a = a+1  # 지역변수\n",
    "\n",
    "print(vartest(a))    # 지역변수 a\n",
    "print(a)     # 전역변수 a"
   ]
  },
  {
   "cell_type": "code",
   "execution_count": 21,
   "metadata": {},
   "outputs": [
    {
     "name": "stdout",
     "output_type": "stream",
     "text": [
      "2\n"
     ]
    }
   ],
   "source": [
    "# 함수 안에서 함수 밖의 변수를 변경하는 방법 1\n",
    "# return문 사용\n",
    "a = 1\n",
    "def vartest(a):\n",
    "    a = a+1\n",
    "    return a\n",
    "\n",
    "a = vartest(a)  # vartest(a)의 결과값을 함수 밖의 변수 a에 대입\n",
    "print(a)"
   ]
  },
  {
   "cell_type": "code",
   "execution_count": 23,
   "metadata": {},
   "outputs": [
    {
     "name": "stdout",
     "output_type": "stream",
     "text": [
      "2\n"
     ]
    }
   ],
   "source": [
    "# 함수 안에서 함수 밖의 변수를 변경하는 방법 2\n",
    "# global 명령어 사용 (가급적 사용 x )\n",
    "# 함수는 독립적으로 존재하는 것이 좋음 (종속적인 함수는 지양)\n",
    "a = 1\n",
    "def vartest():\n",
    "    global a  # 함수 밖의 a 변수를 직접 사용하겠다는 의미\n",
    "    a = a+1\n",
    "    \n",
    "vartest()\n",
    "print(a)"
   ]
  },
  {
   "cell_type": "markdown",
   "metadata": {},
   "source": [
    "### 11. lambda 사용"
   ]
  },
  {
   "cell_type": "code",
   "execution_count": 24,
   "metadata": {},
   "outputs": [
    {
     "name": "stdout",
     "output_type": "stream",
     "text": [
      "7\n"
     ]
    }
   ],
   "source": [
    "# lambda는 함수를 생성할 때 사용하는 예약어로 def와 동일한 역할\n",
    "add = lambda a, b: a+b\n",
    "result = add(3,4)\n",
    "print(result)"
   ]
  },
  {
   "cell_type": "code",
   "execution_count": 27,
   "metadata": {},
   "outputs": [
    {
     "data": {
      "text/plain": [
       "7"
      ]
     },
     "execution_count": 27,
     "metadata": {},
     "output_type": "execute_result"
    }
   ],
   "source": [
    "# 같은 코드\n",
    "def add(a,b):\n",
    "    return a+b\n",
    "\n",
    "result = add(3,4)\n",
    "result"
   ]
  },
  {
   "cell_type": "markdown",
   "metadata": {},
   "source": [
    "### p.179 연습문제 Q1"
   ]
  },
  {
   "cell_type": "code",
   "execution_count": 32,
   "metadata": {
    "scrolled": true
   },
   "outputs": [
    {
     "name": "stdout",
     "output_type": "stream",
     "text": [
      "True\n",
      "False\n"
     ]
    }
   ],
   "source": [
    "def is_odd(number):\n",
    "    if number%2==1:\n",
    "        return True\n",
    "    else:\n",
    "        return False\n",
    "    \n",
    "print(is_odd(3))\n",
    "print(is_odd(4))"
   ]
  },
  {
   "cell_type": "code",
   "execution_count": 39,
   "metadata": {},
   "outputs": [
    {
     "data": {
      "text/plain": [
       "True"
      ]
     },
     "execution_count": 39,
     "metadata": {},
     "output_type": "execute_result"
    }
   ],
   "source": [
    "# 람다식 표현\n",
    "is_odd = lambda x: True if x % 2 == 1 else False\n",
    "is_odd(3)"
   ]
  },
  {
   "cell_type": "markdown",
   "metadata": {},
   "source": [
    "### p.179 연습문제 Q2 "
   ]
  },
  {
   "cell_type": "code",
   "execution_count": 45,
   "metadata": {},
   "outputs": [
    {
     "data": {
      "text/plain": [
       "3.0"
      ]
     },
     "execution_count": 45,
     "metadata": {},
     "output_type": "execute_result"
    }
   ],
   "source": [
    "def avg_numbers(*args):\n",
    "    result = 0\n",
    "    for i in args:\n",
    "        result += i\n",
    "    return result / len(args)\n",
    "\n",
    "avg_numbers(2,4)"
   ]
  }
 ],
 "metadata": {
  "kernelspec": {
   "display_name": "Python [conda env:Pylab36] *",
   "language": "python",
   "name": "conda-env-Pylab36-py"
  },
  "language_info": {
   "codemirror_mode": {
    "name": "ipython",
    "version": 3
   },
   "file_extension": ".py",
   "mimetype": "text/x-python",
   "name": "python",
   "nbconvert_exporter": "python",
   "pygments_lexer": "ipython3",
   "version": "3.7.5"
  }
 },
 "nbformat": 4,
 "nbformat_minor": 2
}
