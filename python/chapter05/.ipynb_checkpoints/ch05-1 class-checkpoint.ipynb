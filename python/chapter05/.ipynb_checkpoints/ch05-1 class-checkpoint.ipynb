{
 "cells": [
  {
   "cell_type": "markdown",
   "metadata": {},
   "source": [
    "# 05-1 클래스"
   ]
  },
  {
   "cell_type": "markdown",
   "metadata": {},
   "source": [
    "### 클래스를 이용한 계산기"
   ]
  },
  {
   "cell_type": "code",
   "execution_count": 23,
   "metadata": {},
   "outputs": [],
   "source": [
    "# Calculator 클래스로 만든 별개의 계산기 cal1, cal2인 객체가 각각의 역할을 수행\n",
    "\n",
    "class Calculator:\n",
    "    def __init__(self):\n",
    "        self.result =  0\n",
    "    \n",
    "    def adder(self, num):    # 덧셈 기능\n",
    "        self.result += num\n",
    "        return self.result\n",
    "    \n",
    "    def sub(self, num):      # 뺄셈 기능\n",
    "        self.result -= num\n",
    "        return self.result\n",
    "    \n",
    "cal1 = Calculator()\n",
    "cal2 = Calculator()"
   ]
  },
  {
   "cell_type": "markdown",
   "metadata": {},
   "source": [
    " - 계산기의 결과값 역시 다른 계산기의 결과값과 상관없이 독립적인 값을 유지\n",
    " - 클래스를 사용하면 계산기 대수가 늘어나더라도 단순히 객체 생성을 통하여 간단하게 수행할 수 있음"
   ]
  },
  {
   "cell_type": "code",
   "execution_count": 5,
   "metadata": {},
   "outputs": [
    {
     "name": "stdout",
     "output_type": "stream",
     "text": [
      "3\n",
      "7\n",
      "3\n",
      "10\n"
     ]
    }
   ],
   "source": [
    "print(cal1.adder(3))\n",
    "print(cal1.adder(4))\n",
    "print(cal2.adder(3))\n",
    "print(cal2.adder(7))"
   ]
  },
  {
   "cell_type": "markdown",
   "metadata": {},
   "source": [
    "### 클래스와 객체"
   ]
  },
  {
   "cell_type": "markdown",
   "metadata": {},
   "source": [
    " - 클래스란 똑같은 무엇인가를 계속 만들 수 있는 설계도면에 비유(과자틀)\n",
    " - 객체란 클래스로 만든 피조물(과자 틀을 사용해 만든 과자)\n",
    " - 객체마다 고유한 성질을 가짐\n",
    " - 동일한 클래스로 만든 객체들은 서로 영향 x"
   ]
  },
  {
   "cell_type": "markdown",
   "metadata": {},
   "source": [
    "### 객체와 인스턴스의 차이"
   ]
  },
  {
   "cell_type": "markdown",
   "metadata": {},
   "source": [
    "- 클래스로 만든 객체를 인스턴스라고 함\n",
    "- a = Cookie( ) 이렇게 만드 a는 객체, 그리고 a 객체는 클래스 COokie의 인스턴스\n",
    "- 인스턴스는 특정객체(a)가 어떤 클래스(Cookie)의 객체인지를 관계 위주로 설명할 때 사용\n",
    "- a는 객체라는 표현과, a는 Cookie의 인스턴스 표현이 어울림"
   ]
  },
  {
   "cell_type": "code",
   "execution_count": 24,
   "metadata": {},
   "outputs": [],
   "source": [
    "# 예시\n",
    "\n",
    "class Cookie:\n",
    "    pass\n",
    "\n",
    "a = Cookie()"
   ]
  },
  {
   "cell_type": "code",
   "execution_count": null,
   "metadata": {},
   "outputs": [],
   "source": []
  },
  {
   "cell_type": "code",
   "execution_count": null,
   "metadata": {},
   "outputs": [],
   "source": []
  },
  {
   "cell_type": "code",
   "execution_count": null,
   "metadata": {},
   "outputs": [],
   "source": []
  },
  {
   "cell_type": "code",
   "execution_count": null,
   "metadata": {},
   "outputs": [],
   "source": []
  }
 ],
 "metadata": {
  "kernelspec": {
   "display_name": "Python [conda env:pyLab36] *",
   "language": "python",
   "name": "conda-env-pyLab36-py"
  },
  "language_info": {
   "codemirror_mode": {
    "name": "ipython",
    "version": 3
   },
   "file_extension": ".py",
   "mimetype": "text/x-python",
   "name": "python",
   "nbconvert_exporter": "python",
   "pygments_lexer": "ipython3",
   "version": "3.6.9"
  }
 },
 "nbformat": 4,
 "nbformat_minor": 2
}
