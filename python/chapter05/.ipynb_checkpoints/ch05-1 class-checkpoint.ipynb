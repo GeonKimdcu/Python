{
 "cells": [
  {
   "cell_type": "markdown",
   "metadata": {},
   "source": [
    "# 05-1 클래스"
   ]
  },
  {
   "cell_type": "markdown",
   "metadata": {},
   "source": [
    "### 클래스를 이용한 계산기"
   ]
  },
  {
   "cell_type": "code",
   "execution_count": 23,
   "metadata": {},
   "outputs": [],
   "source": [
    "# Calculator 클래스로 만든 별개의 계산기 cal1, cal2인 객체가 각각의 역할을 수행\n",
    "\n",
    "class Calculator:\n",
    "    def __init__(self):\n",
    "        self.result =  0\n",
    "    \n",
    "    def adder(self, num):    # 덧셈 기능\n",
    "        self.result += num\n",
    "        return self.result\n",
    "    \n",
    "    def sub(self, num):      # 뺄셈 기능\n",
    "        self.result -= num\n",
    "        return self.result\n",
    "    \n",
    "cal1 = Calculator()\n",
    "cal2 = Calculator()"
   ]
  },
  {
   "cell_type": "markdown",
   "metadata": {},
   "source": [
    " - 계산기의 결과값 역시 다른 계산기의 결과값과 상관없이 독립적인 값을 유지\n",
    " - 클래스를 사용하면 계산기 대수가 늘어나더라도 단순히 객체 생성을 통하여 간단하게 수행할 수 있음"
   ]
  },
  {
   "cell_type": "code",
   "execution_count": 5,
   "metadata": {},
   "outputs": [
    {
     "name": "stdout",
     "output_type": "stream",
     "text": [
      "3\n",
      "7\n",
      "3\n",
      "10\n"
     ]
    }
   ],
   "source": [
    "print(cal1.adder(3))\n",
    "print(cal1.adder(4))\n",
    "print(cal2.adder(3))\n",
    "print(cal2.adder(7))"
   ]
  },
  {
   "cell_type": "markdown",
   "metadata": {},
   "source": [
    "### 클래스와 객체"
   ]
  },
  {
   "cell_type": "markdown",
   "metadata": {},
   "source": [
    " - 클래스란 똑같은 무엇인가를 계속 만들 수 있는 설계도면에 비유(과자틀)\n",
    " - 객체란 클래스로 만든 피조물(과자 틀을 사용해 만든 과자)\n",
    " - 객체마다 고유한 성질을 가짐\n",
    " - 동일한 클래스로 만든 객체들은 서로 영향 x"
   ]
  },
  {
   "cell_type": "markdown",
   "metadata": {},
   "source": [
    "### 객체와 인스턴스의 차이"
   ]
  },
  {
   "cell_type": "markdown",
   "metadata": {},
   "source": [
    "- 클래스로 만든 객체를 인스턴스라고 함\n",
    "- a = Cookie( ) 이렇게 만드 a는 객체, 그리고 a 객체는 클래스 COokie의 인스턴스\n",
    "- 인스턴스는 특정객체(a)가 어떤 클래스(Cookie)의 객체인지를 관계 위주로 설명할 때 사용\n",
    "- a는 객체라는 표현과, a는 Cookie의 인스턴스 표현이 어울림"
   ]
  },
  {
   "cell_type": "code",
   "execution_count": 24,
   "metadata": {},
   "outputs": [],
   "source": [
    "# 예시\n",
    "\n",
    "class Cookie:\n",
    "    pass\n",
    "\n",
    "a = Cookie()"
   ]
  },
  {
   "cell_type": "markdown",
   "metadata": {},
   "source": [
    "### 사칙연산 클래스 만들기\n",
    "- 사칙연산을 가능하게 하는 FourCal 클래스 만들기"
   ]
  },
  {
   "cell_type": "markdown",
   "metadata": {},
   "source": [
    "### 클래스 구조 만들기\n",
    "- a = FourCal()의 간단한 클래스 구조 생성\n",
    "- pass는 아무 것도 수행하지 않는 문법으로 임시 코드 작성 시 주로 사용\n",
    "- type 함수는 객체 타입을 출력하는 파이썬 내장함수"
   ]
  },
  {
   "cell_type": "code",
   "execution_count": 2,
   "metadata": {},
   "outputs": [],
   "source": [
    "class FourCal:\n",
    "    pass"
   ]
  },
  {
   "cell_type": "code",
   "execution_count": 4,
   "metadata": {},
   "outputs": [
    {
     "data": {
      "text/plain": [
       "__main__.FourCal"
      ]
     },
     "execution_count": 4,
     "metadata": {},
     "output_type": "execute_result"
    }
   ],
   "source": [
    "# 1. 먼저 a라는 객체를 생성\n",
    "\n",
    "a = FourCal()\n",
    "type(a) # 객체 a가 FourCal 클래스의 객체임을 알 수 있음"
   ]
  },
  {
   "cell_type": "markdown",
   "metadata": {},
   "source": [
    "### 객체에 숫자 지정할 수 있게 만들기\n",
    "- 연산을 수행할 대상(4,2)을 객체에 지정할 수 있게 만들어야 함\n",
    "- 클래스 안에 구현된 함수, 즉 클래스 내부의 함수를 메소드(method)라고 부름"
   ]
  },
  {
   "cell_type": "code",
   "execution_count": 9,
   "metadata": {},
   "outputs": [],
   "source": [
    "class FourCal:\n",
    "    def setdata(self, first, second): # 메서드의 매개변수\n",
    "        self.first = first  # 메서드의 수행문(1)\n",
    "        self.second = second  # 메서드의 수행문(2)"
   ]
  },
  {
   "cell_type": "markdown",
   "metadata": {},
   "source": [
    "- setdata 메서드는 매개변수로 self, first, second 3개 입력값을 받음\n",
    "- a 객체를 통해 setdata 메서드를 호출 시 2개의 값(4,2) 만 전달\n",
    "- a.setdata(4,2)처럼 호출 시 setdata 메서드의 첫 번째 매개변수인 self에는 setdata 메서드를 호출한 객체 a가 자동으로 전달됨\n",
    "- 객체를 통해 클래스의 메서드를 호출하려면 a.setdata(4,2)와 같이 도트(.) 연산자를 사용\n",
    "- 파이썬 메서드의 첫 번째 매개변수 이름은 관례적으로 self를 사용\n",
    "- setdata 메서드의 첫 번째 매개변수 self에는 setdata 메서드를 호출한 객체 a가 자동으로 전달\n",
    "- 따라서, 객체를 호출할 때 호출한 객체 자신이 전달되기 때문에 self를 사용한 것\n",
    " - a.setdata(4,2) 일때 def setdata(self, first, second)이면 a - self / 4 - first / 2 - second로 연결"
   ]
  },
  {
   "cell_type": "markdown",
   "metadata": {},
   "source": [
    "#####  메서드의 또 다른 호출 방법"
   ]
  },
  {
   "cell_type": "code",
   "execution_count": 15,
   "metadata": {},
   "outputs": [],
   "source": [
    "# ex1) 클래스 이름.메서드()\n",
    "\n",
    "a = FourCal()\n",
    "FourCal.setdata(a,4,2) # 클래스를 통해 메서드를 호출하는 방식\n",
    "# 이 경우 객체 a를 첫 번째 매개변수 self에 꼭 전달하여야 함"
   ]
  },
  {
   "cell_type": "code",
   "execution_count": 16,
   "metadata": {},
   "outputs": [],
   "source": [
    "# ex2) 객체.메서드()\n",
    "\n",
    "a = FourCal()\n",
    "a.setdata(4,2) # 객체.메서드()형태로 호출\n",
    "# self를 반드시 생략하여 호출"
   ]
  },
  {
   "cell_type": "markdown",
   "metadata": {},
   "source": [
    "- setdata 메서드의 수행문"
   ]
  },
  {
   "cell_type": "code",
   "execution_count": 17,
   "metadata": {},
   "outputs": [],
   "source": [
    "def setdata(self, first, second):\n",
    "    self.first = first\n",
    "    self.second = second"
   ]
  },
  {
   "cell_type": "markdown",
   "metadata": {},
   "source": [
    "a.setdata(4,2) 호출 시 setdata 메서드 수행문은 다음과 같이 해석\n",
    "- self.first = 4\n",
    "- self.second = 2\n",
    "\n",
    "self는 전달된 객체 a이므로 다음과 같이 해석\n",
    "- a.first = 4\n",
    "- a.second = 2\n",
    "\n",
    "-> a.first = 4 문장이 수행되면 a 객체에 객체변수 first가 생성되고 값 4가 저장\n",
    "###### 객체에 생성되는 객체만의 변수를 객체변수라 한다"
   ]
  },
  {
   "cell_type": "code",
   "execution_count": 20,
   "metadata": {},
   "outputs": [
    {
     "name": "stdout",
     "output_type": "stream",
     "text": [
      "4\n",
      "2\n"
     ]
    }
   ],
   "source": [
    "# setdata 메서드의 수행문\n",
    "\n",
    "a = FourCal()\n",
    "a.setdata(4,2)\n",
    "print(a.first) # a객체에 객체변수 first, second가 생성되어 있음을 확인\n",
    "print(a.second)"
   ]
  },
  {
   "cell_type": "code",
   "execution_count": 21,
   "metadata": {},
   "outputs": [],
   "source": [
    "# a,b 두 개의 객체 생성\n",
    "\n",
    "a = FourCal()\n",
    "b = FourCal()"
   ]
  },
  {
   "cell_type": "code",
   "execution_count": 22,
   "metadata": {},
   "outputs": [
    {
     "name": "stdout",
     "output_type": "stream",
     "text": [
      "4\n"
     ]
    }
   ],
   "source": [
    "# a객체의 객체변수 first를 다음과 같이 생성\n",
    "\n",
    "a.setdata(4,2)\n",
    "print(a.first)"
   ]
  },
  {
   "cell_type": "code",
   "execution_count": 23,
   "metadata": {},
   "outputs": [
    {
     "name": "stdout",
     "output_type": "stream",
     "text": [
      "3\n"
     ]
    }
   ],
   "source": [
    "# b객체의 객체변수 first를 다음과 같이 생성\n",
    "\n",
    "b.setdata(3,7)\n",
    "print(b.first)"
   ]
  },
  {
   "cell_type": "code",
   "execution_count": 25,
   "metadata": {},
   "outputs": [
    {
     "name": "stdout",
     "output_type": "stream",
     "text": [
      "4\n"
     ]
    }
   ],
   "source": [
    "# a객체의 first는 기존 값 4를 유지\n",
    "\n",
    "print(a.first)"
   ]
  },
  {
   "cell_type": "markdown",
   "metadata": {},
   "source": [
    "- 클래스로 만든 객체의 객체변수는 다른 객체의 객체변수에 상관없이 독립적인 값을 유지\n",
    "- a객체의 first 주소 값과 b객체의 first 주소 값이 서로 다르므로 각각 다른 곳에 그 값이 저장\n",
    "- 객체변수는 그 객체의 고유값을 저장할 수 있는 공간으로 다른 객체에 영향을 받지 않고 독립적으로 그 값을 유지"
   ]
  },
  {
   "cell_type": "code",
   "execution_count": 28,
   "metadata": {},
   "outputs": [
    {
     "name": "stdout",
     "output_type": "stream",
     "text": [
      "1350611264\n",
      "1350611232\n"
     ]
    }
   ],
   "source": [
    "a = FourCal()\n",
    "b = FourCal()\n",
    "\n",
    "a.setdata(4,2)\n",
    "b.setdata(3,7)\n",
    "\n",
    "print(id(a.first))  # a의 first 주소값을 확인\n",
    "print(id(b.first))  # b의 first 주소값을 확인"
   ]
  },
  {
   "cell_type": "markdown",
   "metadata": {},
   "source": [
    "### 더하기 기능 만들기"
   ]
  },
  {
   "cell_type": "code",
   "execution_count": 6,
   "metadata": {},
   "outputs": [],
   "source": [
    "class FourCal:\n",
    "    def setdata(self, first, second):\n",
    "        self.first = first\n",
    "        self.second = second\n",
    "    def add(self):\n",
    "        result = self.first + self.second # a.first + a.second 와 같음\n",
    "        return result"
   ]
  },
  {
   "cell_type": "code",
   "execution_count": 4,
   "metadata": {},
   "outputs": [
    {
     "name": "stdout",
     "output_type": "stream",
     "text": [
      "6\n"
     ]
    }
   ],
   "source": [
    "a = FourCal()\n",
    "a.setdata(4,2)\n",
    "print(a.add())"
   ]
  },
  {
   "cell_type": "markdown",
   "metadata": {},
   "source": [
    "### 곱하기, 뺴기, 나누기 기능 만들기"
   ]
  },
  {
   "cell_type": "code",
   "execution_count": 7,
   "metadata": {},
   "outputs": [],
   "source": [
    "class FourCal:\n",
    "    def setdata(self, first, second):\n",
    "        self.first = first\n",
    "        self.second = second\n",
    "    def add(self):\n",
    "        result = self.first + self.second \n",
    "        return result\n",
    "    def mul(self):\n",
    "        result = self.first * self.second\n",
    "        return result\n",
    "    def sub(self):\n",
    "        result = self.first - self.second\n",
    "        return result\n",
    "    def div(self):\n",
    "        result = self.first / self.second\n",
    "        return result"
   ]
  },
  {
   "cell_type": "code",
   "execution_count": 8,
   "metadata": {},
   "outputs": [
    {
     "name": "stdout",
     "output_type": "stream",
     "text": [
      "6\n",
      "8\n",
      "2\n",
      "2.0\n",
      "11\n",
      "24\n",
      "-5\n",
      "0.375\n"
     ]
    }
   ],
   "source": [
    "a = FourCal()\n",
    "b = FourCal()\n",
    "\n",
    "a.setdata(4,2)\n",
    "b.setdata(3,8)\n",
    "\n",
    "print(a.add())\n",
    "print(a.mul())\n",
    "print(a.sub())\n",
    "print(a.div())\n",
    "print(b.add())\n",
    "print(b.mul())\n",
    "print(b.sub())\n",
    "print(b.div())"
   ]
  },
  {
   "cell_type": "markdown",
   "metadata": {},
   "source": [
    "### 생성자(Constructor)\n",
    "- 생성자 : 객체가 생성될 때 자동으로 호출되는 메서드를 의미"
   ]
  },
  {
   "cell_type": "code",
   "execution_count": 10,
   "metadata": {},
   "outputs": [
    {
     "ename": "AttributeError",
     "evalue": "'FourCal' object has no attribute 'first'",
     "output_type": "error",
     "traceback": [
      "\u001b[0;31m---------------------------------------------------------------------------\u001b[0m",
      "\u001b[0;31mAttributeError\u001b[0m                            Traceback (most recent call last)",
      "\u001b[0;32m<ipython-input-10-43c9c6d1a6c6>\u001b[0m in \u001b[0;36m<module>\u001b[0;34m\u001b[0m\n\u001b[1;32m      1\u001b[0m \u001b[0ma\u001b[0m \u001b[0;34m=\u001b[0m \u001b[0mFourCal\u001b[0m\u001b[0;34m(\u001b[0m\u001b[0;34m)\u001b[0m\u001b[0;34m\u001b[0m\u001b[0;34m\u001b[0m\u001b[0m\n\u001b[0;32m----> 2\u001b[0;31m \u001b[0ma\u001b[0m\u001b[0;34m.\u001b[0m\u001b[0madd\u001b[0m\u001b[0;34m(\u001b[0m\u001b[0;34m)\u001b[0m\u001b[0;34m\u001b[0m\u001b[0;34m\u001b[0m\u001b[0m\n\u001b[0m\u001b[1;32m      3\u001b[0m \u001b[0;31m# 객체에 초기값을 설정해주지 않았기 때문에 에러발생\u001b[0m\u001b[0;34m\u001b[0m\u001b[0;34m\u001b[0m\u001b[0;34m\u001b[0m\u001b[0m\n",
      "\u001b[0;32m<ipython-input-7-9698c32d391c>\u001b[0m in \u001b[0;36madd\u001b[0;34m(self)\u001b[0m\n\u001b[1;32m      4\u001b[0m         \u001b[0mself\u001b[0m\u001b[0;34m.\u001b[0m\u001b[0msecond\u001b[0m \u001b[0;34m=\u001b[0m \u001b[0msecond\u001b[0m\u001b[0;34m\u001b[0m\u001b[0;34m\u001b[0m\u001b[0m\n\u001b[1;32m      5\u001b[0m     \u001b[0;32mdef\u001b[0m \u001b[0madd\u001b[0m\u001b[0;34m(\u001b[0m\u001b[0mself\u001b[0m\u001b[0;34m)\u001b[0m\u001b[0;34m:\u001b[0m\u001b[0;34m\u001b[0m\u001b[0;34m\u001b[0m\u001b[0m\n\u001b[0;32m----> 6\u001b[0;31m         \u001b[0mresult\u001b[0m \u001b[0;34m=\u001b[0m \u001b[0mself\u001b[0m\u001b[0;34m.\u001b[0m\u001b[0mfirst\u001b[0m \u001b[0;34m+\u001b[0m \u001b[0mself\u001b[0m\u001b[0;34m.\u001b[0m\u001b[0msecond\u001b[0m\u001b[0;34m\u001b[0m\u001b[0;34m\u001b[0m\u001b[0m\n\u001b[0m\u001b[1;32m      7\u001b[0m         \u001b[0;32mreturn\u001b[0m \u001b[0mresult\u001b[0m\u001b[0;34m\u001b[0m\u001b[0;34m\u001b[0m\u001b[0m\n\u001b[1;32m      8\u001b[0m     \u001b[0;32mdef\u001b[0m \u001b[0mmul\u001b[0m\u001b[0;34m(\u001b[0m\u001b[0mself\u001b[0m\u001b[0;34m)\u001b[0m\u001b[0;34m:\u001b[0m\u001b[0;34m\u001b[0m\u001b[0;34m\u001b[0m\u001b[0m\n",
      "\u001b[0;31mAttributeError\u001b[0m: 'FourCal' object has no attribute 'first'"
     ]
    }
   ],
   "source": [
    "a = FourCal()\n",
    "a.add()\n",
    "# 객체에 초기값을 설정해주지 않았기 때문에 에러발생"
   ]
  },
  {
   "cell_type": "markdown",
   "metadata": {},
   "source": [
    "- 객체에 초기값 설정이 필요할 경우, setdata와 같은 메서드를 호출하여 설정하기 보다는 생성자를 구현하는 것이 안전한 방법"
   ]
  },
  {
   "cell_type": "code",
   "execution_count": 11,
   "metadata": {},
   "outputs": [],
   "source": [
    "# 생성자 구현 방법 : 파이썬 메서드 이름으로 __init__을 사용\n",
    "\n",
    "class FourCal:\n",
    "    def __init__(self, first, second):\n",
    "        self.first = first\n",
    "        self.second = second\n",
    "    def add(self):\n",
    "        result = self.first + self.second \n",
    "        return result\n",
    "    def mul(self):\n",
    "        result = self.first * self.second\n",
    "        return result\n",
    "    def sub(self):\n",
    "        result = self.first - self.second\n",
    "        return result\n",
    "    def div(self):\n",
    "        result = self.first / self.second\n",
    "        return result"
   ]
  },
  {
   "cell_type": "code",
   "execution_count": 14,
   "metadata": {},
   "outputs": [
    {
     "ename": "TypeError",
     "evalue": "__init__() missing 2 required positional arguments: 'first' and 'second'",
     "output_type": "error",
     "traceback": [
      "\u001b[0;31m---------------------------------------------------------------------------\u001b[0m",
      "\u001b[0;31mTypeError\u001b[0m                                 Traceback (most recent call last)",
      "\u001b[0;32m<ipython-input-14-70aeeb20046f>\u001b[0m in \u001b[0;36m<module>\u001b[0;34m\u001b[0m\n\u001b[1;32m      1\u001b[0m \u001b[0;31m# 오류발생 이유: 생성자의 매개변수 first와 second에 해당하는 값이 전달되지 않았기 때문\u001b[0m\u001b[0;34m\u001b[0m\u001b[0;34m\u001b[0m\u001b[0;34m\u001b[0m\u001b[0m\n\u001b[1;32m      2\u001b[0m \u001b[0;34m\u001b[0m\u001b[0m\n\u001b[0;32m----> 3\u001b[0;31m \u001b[0ma\u001b[0m \u001b[0;34m=\u001b[0m \u001b[0mFourCal\u001b[0m\u001b[0;34m(\u001b[0m\u001b[0;34m)\u001b[0m\u001b[0;34m\u001b[0m\u001b[0;34m\u001b[0m\u001b[0m\n\u001b[0m",
      "\u001b[0;31mTypeError\u001b[0m: __init__() missing 2 required positional arguments: 'first' and 'second'"
     ]
    }
   ],
   "source": [
    "# 오류발생 이유: 생성자의 매개변수 first와 second에 해당하는 값이 전달되지 않았기 때문\n",
    "\n",
    "a = FourCal()"
   ]
  },
  {
   "cell_type": "code",
   "execution_count": 15,
   "metadata": {
    "scrolled": true
   },
   "outputs": [
    {
     "name": "stdout",
     "output_type": "stream",
     "text": [
      "4\n",
      "2\n"
     ]
    }
   ],
   "source": [
    "# 올바른 표현\n",
    "\n",
    "a = FourCal(4,2)\n",
    "print(a.first)\n",
    "print(a.second)"
   ]
  },
  {
   "cell_type": "code",
   "execution_count": 17,
   "metadata": {},
   "outputs": [
    {
     "name": "stdout",
     "output_type": "stream",
     "text": [
      "9\n",
      "2.0\n"
     ]
    }
   ],
   "source": [
    "a = FourCal(6,3)\n",
    "print(a.add())\n",
    "print(a.div())"
   ]
  },
  {
   "cell_type": "markdown",
   "metadata": {},
   "source": [
    "### 클래스의 상속 \n",
    "- 어떤 클래스를 만들 때 다른 클래스의 기능을 물려받을 수 있게 만드는 방법\n",
    "- 클래스를 상속하기 위하여 다음과 같이 클래스 이름 뒤 괄호 안에 상속할 클래스 이름 삽입\n",
    "\n",
    "  - class 클래스 이름(상속할 클래스 이름)"
   ]
  },
  {
   "cell_type": "code",
   "execution_count": 22,
   "metadata": {},
   "outputs": [],
   "source": [
    "# MoreFourCal 클래스\n",
    "\n",
    "class MoreFourCal(FourCal):\n",
    "\n",
    "    pass"
   ]
  },
  {
   "cell_type": "code",
   "execution_count": 21,
   "metadata": {},
   "outputs": [
    {
     "name": "stdout",
     "output_type": "stream",
     "text": [
      "6\n",
      "8\n",
      "2\n",
      "2.0\n"
     ]
    }
   ],
   "source": [
    "# MoreFourCal 클래스가 상속받은 FourCal 클래스의 기능을 모두 사용할 수 있음을 확인\n",
    "\n",
    "a = MoreFourCal(4,2)\n",
    "print(a.add())\n",
    "print(a.mul())\n",
    "print(a.sub())\n",
    "print(a.div())"
   ]
  },
  {
   "cell_type": "code",
   "execution_count": 23,
   "metadata": {},
   "outputs": [],
   "source": [
    "# 기존 FourCal 클래스에 (a의 b제곱)을 구할 수 있는 기능 추가 \n",
    "\n",
    "class MoreFourCal(FourCal):\n",
    "    def pow(self):\n",
    "        result = self.first ** self.second\n",
    "        return result"
   ]
  },
  {
   "cell_type": "code",
   "execution_count": 25,
   "metadata": {},
   "outputs": [
    {
     "data": {
      "text/plain": [
       "16"
      ]
     },
     "execution_count": 25,
     "metadata": {},
     "output_type": "execute_result"
    }
   ],
   "source": [
    "a = MoreFourCal(4,2)\n",
    "a.pow()"
   ]
  },
  {
   "cell_type": "markdown",
   "metadata": {},
   "source": [
    "- 상속은 MoreFourCal 클래스처럼 기존 FourCal은 그대로 유지하면서 클래스의 기능을 확장시킬 때 주로 사용 "
   ]
  }
 ],
 "metadata": {
  "kernelspec": {
   "display_name": "Python [conda env:pyLab36] *",
   "language": "python",
   "name": "conda-env-pyLab36-py"
  },
  "language_info": {
   "codemirror_mode": {
    "name": "ipython",
    "version": 3
   },
   "file_extension": ".py",
   "mimetype": "text/x-python",
   "name": "python",
   "nbconvert_exporter": "python",
   "pygments_lexer": "ipython3",
   "version": "3.6.9"
  }
 },
 "nbformat": 4,
 "nbformat_minor": 2
}
