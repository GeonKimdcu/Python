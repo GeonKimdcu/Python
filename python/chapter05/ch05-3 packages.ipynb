{
 "cells": [
  {
   "cell_type": "markdown",
   "metadata": {},
   "source": [
    "# 05-3 패키지"
   ]
  },
  {
   "cell_type": "markdown",
   "metadata": {},
   "source": [
    "- 도트(.)를 이용하여 파이썬 모듈을 계층적(디렉토리 구조)으로 관리하게 해줌\n",
    "- ex) 모듈명이 A.B인 경우 A는 패키지명이 되고 B는 A패키지의 B 모듈이 됨\n",
    "- 공동 작업이나 유지 보수 등 여러 면에서 유리함\n",
    "- 패키지 구조로 모듈을 만들면 다른 모듈과 겹치더라도 더 안전하게 사용할 수 있음"
   ]
  },
  {
   "cell_type": "markdown",
   "metadata": {},
   "source": [
    "#### 가상의 game 패키지 예\n",
    "game/\n",
    "   \n",
    "    __init__.py\n",
    "    \n",
    "    sound/\n",
    "        __init__.py\n",
    "        echo.py\n",
    "        wav.py\n",
    "        \n",
    "    graphic/\n",
    "        __init__.py\n",
    "        screen.py\n",
    "        render.py\n",
    "        \n",
    "    play/\n",
    "        __init__.py\n",
    "        run.py\n",
    "        test.py"
   ]
  },
  {
   "cell_type": "markdown",
   "metadata": {},
   "source": [
    "#### 테스트를 위해 패키지 만들기\n",
    "C:/easy_py/game/__init__.py\n",
    "\n",
    "C:/easy_py/game/sound/__init__.py\n",
    "\n",
    "C:/easy_py/game/sound/echo.py\n",
    "\n",
    "C:/easy_py/game/graphic/__init__.py\n",
    "\n",
    "C:/easy_py/game/graphic/render.py"
   ]
  },
  {
   "cell_type": "code",
   "execution_count": 15,
   "metadata": {},
   "outputs": [],
   "source": [
    "# %load game/__init__.py\n",
    "# 내용 없음"
   ]
  },
  {
   "cell_type": "code",
   "execution_count": 16,
   "metadata": {},
   "outputs": [],
   "source": [
    "# %load game/sound/echo.py\n",
    "# echo.py\n",
    "\n",
    "def echo_test():\n",
    "\tprint(\"echo\")\n"
   ]
  },
  {
   "cell_type": "code",
   "execution_count": 18,
   "metadata": {},
   "outputs": [],
   "source": [
    "# %load game/graphic/render.py\n",
    "# render.py\n",
    "\n",
    "def render_test():\n",
    "\tprint(\"render\")\n"
   ]
  },
  {
   "cell_type": "markdown",
   "metadata": {},
   "source": [
    "#### 패키지 안의 함수 실행하기1"
   ]
  },
  {
   "cell_type": "markdown",
   "metadata": {},
   "source": [
    "- game 패키지를 참조할 수 있도록 PYTHONPATH 환경변수에 C:/easy_py 디렉토리 추가\n",
    "\n",
    "C:\\> set PYTHONPATH=C:/easy_py"
   ]
  },
  {
   "cell_type": "markdown",
   "metadata": {},
   "source": [
    "#### 패키지 안의 함수 실행하기"
   ]
  },
  {
   "cell_type": "code",
   "execution_count": 21,
   "metadata": {},
   "outputs": [
    {
     "name": "stdout",
     "output_type": "stream",
     "text": [
      "echo\n"
     ]
    }
   ],
   "source": [
    "# echo 모듈을 import하여 실행하는 방법\n",
    "\n",
    "import game.sound.echo\n",
    "\n",
    "game.sound.echo.echo_test()"
   ]
  },
  {
   "cell_type": "code",
   "execution_count": 22,
   "metadata": {},
   "outputs": [
    {
     "name": "stdout",
     "output_type": "stream",
     "text": [
      "echo\n"
     ]
    }
   ],
   "source": [
    "# echo 모듈이 있는 디렉터리까지를 from...import하여 실행하는 방법\n",
    "\n",
    "from game.sound import echo\n",
    "\n",
    "echo.echo_test()"
   ]
  },
  {
   "cell_type": "code",
   "execution_count": 23,
   "metadata": {},
   "outputs": [
    {
     "name": "stdout",
     "output_type": "stream",
     "text": [
      "echo\n"
     ]
    }
   ],
   "source": [
    "# echo 모듈의 echo_test함수를 직접 import하여 실행하는 방법\n",
    "\n",
    "from game.sound.echo import echo_test\n",
    "\n",
    "echo_test()"
   ]
  },
  {
   "cell_type": "markdown",
   "metadata": {},
   "source": [
    "#### 오류 발생 ex1)"
   ]
  },
  {
   "cell_type": "code",
   "execution_count": 20,
   "metadata": {},
   "outputs": [
    {
     "name": "stdout",
     "output_type": "stream",
     "text": [
      "echo\n"
     ]
    }
   ],
   "source": [
    "# import game을 수행하면 game 디렉토리의 모듈 또는 game 디렉토리의 \n",
    "# __init__.py에 정의된 것들만 참조할 수 있음\n",
    "# Python3.3버전부터는 __init__.py파일이 없어도 패키지로 인식\n",
    "\n",
    "import game\n",
    "\n",
    "game.sound.echo.echo_test()"
   ]
  },
  {
   "cell_type": "markdown",
   "metadata": {},
   "source": [
    "#### 오류 발생 ex2)"
   ]
  },
  {
   "cell_type": "code",
   "execution_count": 25,
   "metadata": {},
   "outputs": [
    {
     "ename": "ModuleNotFoundError",
     "evalue": "No module named 'game.sound.echo.echo_test'; 'game.sound.echo' is not a package",
     "output_type": "error",
     "traceback": [
      "\u001b[0;31m---------------------------------------------------------------------------\u001b[0m",
      "\u001b[0;31mModuleNotFoundError\u001b[0m                       Traceback (most recent call last)",
      "\u001b[0;32m<ipython-input-25-c330ff4dc99e>\u001b[0m in \u001b[0;36m<module>\u001b[0;34m\u001b[0m\n\u001b[1;32m      2\u001b[0m \u001b[0;31m# 가장 마지막 항목인 C는 반드시 모듈 또는 패키지여야만 함\u001b[0m\u001b[0;34m\u001b[0m\u001b[0;34m\u001b[0m\u001b[0;34m\u001b[0m\u001b[0m\n\u001b[1;32m      3\u001b[0m \u001b[0;34m\u001b[0m\u001b[0m\n\u001b[0;32m----> 4\u001b[0;31m \u001b[0;32mimport\u001b[0m \u001b[0mgame\u001b[0m\u001b[0;34m.\u001b[0m\u001b[0msound\u001b[0m\u001b[0;34m.\u001b[0m\u001b[0mecho\u001b[0m\u001b[0;34m.\u001b[0m\u001b[0mecho_test\u001b[0m\u001b[0;34m\u001b[0m\u001b[0;34m\u001b[0m\u001b[0m\n\u001b[0m",
      "\u001b[0;31mModuleNotFoundError\u001b[0m: No module named 'game.sound.echo.echo_test'; 'game.sound.echo' is not a package"
     ]
    }
   ],
   "source": [
    "# 도트 연산자(.)를 사용해서 import A.B.C처럼 import 할 때\n",
    "# 가장 마지막 항목인 C는 반드시 모듈 또는 패키지여야만 함\n",
    "\n",
    "import game.sound.echo.echo_test"
   ]
  },
  {
   "cell_type": "markdown",
   "metadata": {},
   "source": [
    "### __init__.py의 용도\n",
    "- 해당 디렉토리가 패키지의 일부임을 알려주는 역할. 만약 game, sound, graphic 등 패키지에 포함된 디렉토리에 __init__.py파일이 없다면 패키지로 인식되지 않음.\n",
    "- Python 3.3 버전부터 __init__.py파일 없이도 패키지로 인식"
   ]
  },
  {
   "cell_type": "code",
   "execution_count": 26,
   "metadata": {},
   "outputs": [],
   "source": [
    "# sound 디렉토리의 __init__.py 제거 후\n",
    "import game.sound.echo"
   ]
  },
  {
   "cell_type": "markdown",
   "metadata": {},
   "source": [
    "### __all__의 용도"
   ]
  },
  {
   "cell_type": "code",
   "execution_count": 27,
   "metadata": {},
   "outputs": [
    {
     "name": "stdout",
     "output_type": "stream",
     "text": [
      "echo\n"
     ]
    }
   ],
   "source": [
    "from game.sound import*\n",
    "\n",
    "echo.echo_test()"
   ]
  },
  {
   "cell_type": "code",
   "execution_count": 32,
   "metadata": {},
   "outputs": [],
   "source": [
    "# %load game/sound/__init__.py\n",
    "\n",
    "# 특정 디렉토리의 모듈을 *를 이용하여 import할 때에는 \n",
    "# 해당 디렉토리의 __init__.py파일에 __all__변수를 설정하고 \n",
    "# import할 수 있는 모듈을 정의해주어야 함\n",
    "\n",
    "__all__ = ['echo']"
   ]
  },
  {
   "cell_type": "code",
   "execution_count": 35,
   "metadata": {},
   "outputs": [
    {
     "name": "stdout",
     "output_type": "stream",
     "text": [
      "echo\n"
     ]
    }
   ],
   "source": [
    "# __init__.py파일을 변경한 후\n",
    "\n",
    "from game.sound import *\n",
    "echo.echo_test()"
   ]
  },
  {
   "cell_type": "code",
   "execution_count": 33,
   "metadata": {},
   "outputs": [],
   "source": [
    "# from game.sound.echo import *는 __all__과 상관없이 무조건 import된다.\n",
    "# 이렇게 __all__과 상관없이 무조건 import되는 경우는 from a.b.c import *에서\n",
    "# from의 마지막 항목인 c가 모듈인 경우이다.\n",
    "\n",
    "from game.sound.echo import *"
   ]
  },
  {
   "cell_type": "markdown",
   "metadata": {},
   "source": [
    "### relative 패키지\n",
    "- 전체 입력 경로 대신 relative하게 import하는 방법\n",
    "- ..은 부모 디렉토리를 의미\n",
    "- graphic과 sound 디렉토리는 동일한 깊이(depth)를 가지므로 부모 디렉토리(..)를 render.py 모듈 안에 사용 가능"
   ]
  },
  {
   "cell_type": "code",
   "execution_count": 16,
   "metadata": {},
   "outputs": [],
   "source": [
    "# %load game/graphic/render.py\n",
    "# render.py\n",
    "from game.sound.echo import echo_test\n",
    "\n",
    "def render_test():\n",
    "    print(\"render\")\n",
    "    echo_test()"
   ]
  },
  {
   "cell_type": "code",
   "execution_count": 17,
   "metadata": {
    "scrolled": true
   },
   "outputs": [
    {
     "name": "stdout",
     "output_type": "stream",
     "text": [
      "render\n",
      "echo\n"
     ]
    }
   ],
   "source": [
    "from game.graphic.render import render_test\n",
    "\n",
    "render_test()"
   ]
  },
  {
   "cell_type": "code",
   "execution_count": null,
   "metadata": {},
   "outputs": [],
   "source": [
    "# %load game/graphic/render\n",
    "# render.py\n",
    "from ..sound.echo import echo_test\n",
    "\n",
    "def render_test():\n",
    "    print(\"render\")\n",
    "    echo_test()"
   ]
  },
  {
   "cell_type": "code",
   "execution_count": 14,
   "metadata": {},
   "outputs": [
    {
     "name": "stdout",
     "output_type": "stream",
     "text": [
      "render\n",
      "echo\n"
     ]
    }
   ],
   "source": [
    "from game.graphic.render import render_test\n",
    "\n",
    "render_test()"
   ]
  }
 ],
 "metadata": {
  "kernelspec": {
   "display_name": "Python [conda env:Pylab36] *",
   "language": "python",
   "name": "conda-env-Pylab36-py"
  },
  "language_info": {
   "codemirror_mode": {
    "name": "ipython",
    "version": 3
   },
   "file_extension": ".py",
   "mimetype": "text/x-python",
   "name": "python",
   "nbconvert_exporter": "python",
   "pygments_lexer": "ipython3",
   "version": "3.7.5"
  }
 },
 "nbformat": 4,
 "nbformat_minor": 2
}
