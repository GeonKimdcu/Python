{
 "cells": [
  {
   "cell_type": "markdown",
   "metadata": {},
   "source": [
    "# UNIT 07 카운터로 세기"
   ]
  },
  {
   "cell_type": "markdown",
   "metadata": {},
   "source": [
    "## 카운터(counter)의 다양한 입력 값"
   ]
  },
  {
   "cell_type": "markdown",
   "metadata": {},
   "source": [
    "### 리스트(list) 입력"
   ]
  },
  {
   "cell_type": "code",
   "execution_count": 1,
   "metadata": {},
   "outputs": [
    {
     "name": "stdout",
     "output_type": "stream",
     "text": [
      "Counter({'aa': 2, 'cc': 1, 'dd': 1, 'bb': 1, 'ee': 1}) <class 'collections.Counter'>\n"
     ]
    },
    {
     "data": {
      "text/plain": [
       "2"
      ]
     },
     "execution_count": 1,
     "metadata": {},
     "output_type": "execute_result"
    }
   ],
   "source": [
    "import collections\n",
    "\n",
    "lst = ['aa', 'cc', 'dd', 'aa', 'bb', 'ee']\n",
    "cntr = collections.Counter(lst)\n",
    "print(cntr, type(cntr))\n",
    "cntr['aa']"
   ]
  },
  {
   "cell_type": "markdown",
   "metadata": {},
   "source": [
    "### 딕셔너리(Dictionary)입력"
   ]
  },
  {
   "cell_type": "code",
   "execution_count": 2,
   "metadata": {},
   "outputs": [
    {
     "name": "stdout",
     "output_type": "stream",
     "text": [
      "Counter({'다': 4, '가': 3, '나': 2}) <class 'collections.Counter'>\n"
     ]
    },
    {
     "data": {
      "text/plain": [
       "4"
      ]
     },
     "execution_count": 2,
     "metadata": {},
     "output_type": "execute_result"
    }
   ],
   "source": [
    "# 아이템의 개수가 큰 순서대로 출력\n",
    "import collections\n",
    "\n",
    "dct = {'가':3, '나':2, '다':4}\n",
    "cntr = collections.Counter(dct)\n",
    "print(cntr, type(cntr))\n",
    "cntr['다']"
   ]
  },
  {
   "cell_type": "markdown",
   "metadata": {},
   "source": [
    "### 아이템 = 개수 형태 입력"
   ]
  },
  {
   "cell_type": "code",
   "execution_count": 3,
   "metadata": {},
   "outputs": [
    {
     "name": "stdout",
     "output_type": "stream",
     "text": [
      "Counter({'b': 3, 'a': 2, 'c': 1}) <class 'collections.Counter'>\n",
      "Counter({'b': 3, 'a': 2, 'c': 1}) <class 'collections.Counter'>\n"
     ]
    },
    {
     "data": {
      "text/plain": [
       "3"
      ]
     },
     "execution_count": 3,
     "metadata": {},
     "output_type": "execute_result"
    }
   ],
   "source": [
    "import collections\n",
    "\n",
    "cntr = collections.Counter(a = 2, b = 3, c=1)\n",
    "print(cntr, type(cntr))\n",
    "cntr['b']\n",
    "\n",
    "lst = ['a', 'b', 'c', 'a', 'b', 'b']\n",
    "cntr = collections.Counter(lst)\n",
    "print(cntr, type(cntr))\n",
    "cntr['b']"
   ]
  },
  {
   "cell_type": "markdown",
   "metadata": {},
   "source": [
    "### 문자열(string) 입력"
   ]
  },
  {
   "cell_type": "code",
   "execution_count": 4,
   "metadata": {},
   "outputs": [
    {
     "name": "stdout",
     "output_type": "stream",
     "text": [
      "Counter({'g': 3, 'a': 2, 'f': 2, 'b': 1, 'c': 1}) <class 'collections.Counter'>\n"
     ]
    },
    {
     "data": {
      "text/plain": [
       "3"
      ]
     },
     "execution_count": 4,
     "metadata": {},
     "output_type": "execute_result"
    }
   ],
   "source": [
    "import collections\n",
    "\n",
    "string = \"aabcffggg\"\n",
    "cntr = collections.Counter(string)\n",
    "print(cntr, type(cntr))\n",
    "cntr['g']"
   ]
  },
  {
   "cell_type": "markdown",
   "metadata": {},
   "source": [
    "## 카운터(counter)의 메소드(method)"
   ]
  },
  {
   "cell_type": "markdown",
   "metadata": {},
   "source": [
    "### update( )함수"
   ]
  },
  {
   "cell_type": "code",
   "execution_count": 6,
   "metadata": {},
   "outputs": [
    {
     "name": "stdout",
     "output_type": "stream",
     "text": [
      "Counter({'f': 5, 'g': 3, 'a': 2, 'e': 2, 'b': 1, 'c': 1})\n"
     ]
    }
   ],
   "source": [
    "# 입력된 Counter의 아이템과 빈도 값을 갱신\n",
    "import collections\n",
    "\n",
    "string = \"aabcffggg\"\n",
    "cntr = collections.Counter(string)\n",
    "\n",
    "cntr.update({'f':3, 'e':2})    # f 개수 +3 ,  e 개수 +2\n",
    "print(cntr)"
   ]
  },
  {
   "cell_type": "markdown",
   "metadata": {},
   "source": [
    "### elements( ) 함수"
   ]
  },
  {
   "cell_type": "code",
   "execution_count": 7,
   "metadata": {},
   "outputs": [
    {
     "name": "stdout",
     "output_type": "stream",
     "text": [
      "<itertools.chain object at 0x0000025AF263F6D8>\n",
      "['H', 'e', 'l', 'l', 'o', 'o', ' ', 'P', 'y', 't', 'h', 'n']\n",
      "[' ', 'H', 'P', 'e', 'h', 'l', 'l', 'n', 'o', 'o', 't', 'y']\n"
     ]
    }
   ],
   "source": [
    "# 빈도 값만큼 해당되는 아이템을 풀어서 반환\n",
    "# 이때, 아이템은 무작위로 반환하고, 아이템 수가 1보다 작을 경우 공백\n",
    "# elements()는 대소문자를 구분하고, sorted() 함수를 이용하여 정렬 가능\n",
    "import collections\n",
    "\n",
    "c = collections.Counter(\"Hello Python\")\n",
    "print(c.elements())\n",
    "#  <itertools.chain object at 0x0000025AF263F6D8>   ????\n",
    "\n",
    "print(list(c.elements()))\n",
    "print(sorted(c.elements()))"
   ]
  },
  {
   "cell_type": "markdown",
   "metadata": {},
   "source": [
    "### most_common(n) 함수"
   ]
  },
  {
   "cell_type": "code",
   "execution_count": 8,
   "metadata": {},
   "outputs": [
    {
     "name": "stdout",
     "output_type": "stream",
     "text": [
      "[('a', 2), ('p', 2), ('e', 2), ('l', 1), (',', 1), (' ', 1), ('o', 1), ('r', 1), ('n', 1), ('g', 1)]\n",
      "[('a', 2), ('p', 2), ('e', 2)]\n"
     ]
    }
   ],
   "source": [
    "# 입력된 값의 아이템들 중 빈도수가 높은 순으로 상위 n개를\n",
    "# 리스트 안의 튜플 형태로 반환\n",
    "# n을 입력하지 않은 most_common()의 경우,\n",
    "# 아이템 전체를 [('아이템',개수)]형태로 반환\n",
    "import collections\n",
    "\n",
    "c2 = collections.Counter('apple, orange')\n",
    "print(c2.most_common())\n",
    "print(c2.most_common(3))"
   ]
  },
  {
   "cell_type": "code",
   "execution_count": 4,
   "metadata": {},
   "outputs": [
    {
     "data": {
      "text/plain": [
       "[('a', 3), ('man', 1), ('plan', 1), ('canal', 1), ('panama', 1)]"
      ]
     },
     "execution_count": 4,
     "metadata": {},
     "output_type": "execute_result"
    }
   ],
   "source": [
    "from collections import Counter\n",
    "phrase = \"a man a plan a canal panama\"\n",
    "cntr = Counter(phrase.split())\n",
    "cntr.most_common()"
   ]
  },
  {
   "cell_type": "markdown",
   "metadata": {},
   "source": [
    "### 리스트를 딕셔너리로 변환"
   ]
  },
  {
   "cell_type": "code",
   "execution_count": null,
   "metadata": {},
   "outputs": [],
   "source": [
    "# 결과로 출력한 리스트를 딕셔너리로 변환하면 가독성이 좋아짐\n",
    "cntrDict = dict(cntr.most_common())\n",
    "print(cntrDict)\n",
    "print(cntrDict['a'])"
   ]
  },
  {
   "cell_type": "markdown",
   "metadata": {},
   "source": [
    "### Counter를 이용한 연산"
   ]
  },
  {
   "cell_type": "code",
   "execution_count": 7,
   "metadata": {},
   "outputs": [
    {
     "name": "stdout",
     "output_type": "stream",
     "text": [
      "Counter({'a': 2, 'b': 2, 'c': 1, 'd': 1})\n",
      "Counter({'a': 3, 'e': 2, 'r': 1, 'o': 1, 'p': 1, 'l': 1, 'n': 1})\n",
      "Counter({'a': 5, 'b': 2, 'e': 2, 'c': 1, 'd': 1, 'r': 1, 'o': 1, 'p': 1, 'l': 1, 'n': 1})\n"
     ]
    }
   ],
   "source": [
    "# 덧셈(+)\n",
    "import collections\n",
    "\n",
    "a = collections.Counter(['a', 'b', 'c', 'd', 'b', 'a'])\n",
    "b = collections.Counter('aaeroplane')\n",
    "\n",
    "print(a)\n",
    "print(b)\n",
    "print(a+b)"
   ]
  },
  {
   "cell_type": "code",
   "execution_count": 9,
   "metadata": {},
   "outputs": [
    {
     "name": "stdout",
     "output_type": "stream",
     "text": [
      "Counter({'d': 2, 'a': 1, 'c': 1})\n"
     ]
    }
   ],
   "source": [
    "# 뺄셈(-) , 음수값은 출력하지 않음\n",
    "import collections\n",
    "\n",
    "a = collections.Counter('aabbccdd')\n",
    "b = collections.Counter('abbbce')\n",
    "print(a-b)"
   ]
  },
  {
   "cell_type": "code",
   "execution_count": 10,
   "metadata": {},
   "outputs": [
    {
     "name": "stdout",
     "output_type": "stream",
     "text": [
      "Counter({'a': 2, 'b': 2, 'c': 1})\n",
      "Counter({'b': 3, 'a': 2, 'c': 2, 'd': 2, 'e': 1})\n"
     ]
    }
   ],
   "source": [
    "# 교집합(&)과 합집합(|)\n",
    "import collections\n",
    "\n",
    "a = collections.Counter('aabbccdd')\n",
    "b = collections.Counter('aabbbce')\n",
    "\n",
    "print(a&b)\n",
    "print(a|b)"
   ]
  },
  {
   "cell_type": "markdown",
   "metadata": {},
   "source": [
    "### 연습문제"
   ]
  },
  {
   "cell_type": "code",
   "execution_count": 13,
   "metadata": {},
   "outputs": [
    {
     "name": "stdout",
     "output_type": "stream",
     "text": [
      "ourCounter: Counter({'a': 5, 'c': 3, 'b': 2, 'd': 1})\n",
      "ourCounter.most_common(3): [('a', 5), ('c', 3), ('b', 2)]\n"
     ]
    }
   ],
   "source": [
    "import collections\n",
    "\n",
    "myList = ['a', 'b', 'c', 'c', 'a', 'a']\n",
    "myCounter = collections.Counter(myList)\n",
    "\n",
    "yourList = ['a', 'd', 'c', 'a', 'b']\n",
    "yourCounter = collections.Counter(yourList)\n",
    "\n",
    "ourCounter = myCounter + yourCounter\n",
    "print('ourCounter:', ourCounter)\n",
    "\n",
    "print('ourCounter.most_common(3):', ourCounter.most_common(3))"
   ]
  },
  {
   "cell_type": "code",
   "execution_count": null,
   "metadata": {},
   "outputs": [],
   "source": []
  }
 ],
 "metadata": {
  "kernelspec": {
   "display_name": "Python 3",
   "language": "python",
   "name": "python3"
  },
  "language_info": {
   "codemirror_mode": {
    "name": "ipython",
    "version": 3
   },
   "file_extension": ".py",
   "mimetype": "text/x-python",
   "name": "python",
   "nbconvert_exporter": "python",
   "pygments_lexer": "ipython3",
   "version": "3.6.9"
  }
 },
 "nbformat": 4,
 "nbformat_minor": 2
}
