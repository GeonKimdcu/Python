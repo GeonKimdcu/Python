{
 "cells": [
  {
   "cell_type": "markdown",
   "metadata": {},
   "source": [
    "# UNIT 31 Pandas 데이터 구조에 익숙해지기"
   ]
  },
  {
   "cell_type": "markdown",
   "metadata": {},
   "source": [
    "### 시리즈 예제 코드 #1"
   ]
  },
  {
   "cell_type": "code",
   "execution_count": 16,
   "metadata": {},
   "outputs": [
    {
     "data": {
      "text/plain": [
       "0     2.2\n",
       "1     3.4\n",
       "2     2.8\n",
       "3     1.6\n",
       "4     2.3\n",
       "5     2.7\n",
       "6     3.4\n",
       "7     3.2\n",
       "8     2.8\n",
       "9     3.8\n",
       "10   -0.4\n",
       "11    1.6\n",
       "12    3.2\n",
       "13    2.1\n",
       "14    1.5\n",
       "15    1.5\n",
       "dtype: float64"
      ]
     },
     "execution_count": 16,
     "metadata": {},
     "output_type": "execute_result"
    }
   ],
   "source": [
    "import pandas as pd\n",
    "\n",
    "# 마지막 값이 잘못되었다. 조금 후에 수정해보자.\n",
    "\n",
    "inflation = pd.Series((2.2, 3.4, 2.8, 1.6, 2.3, 2.7, 3.4, 3.2, 2.8, 3.8,\n",
    "                      -0.4, 1.6, 3.2, 2.1, 1.5, 1.5))\n",
    "\n",
    "inflation\n",
    "\n",
    "# 인덱스가 자동으로 생성\n",
    "# 첫번쨰 아이템의 레이블은 0\n",
    "# 두번쨰 아이템의 레이블은 1\n",
    "# 이런식으로 하나씩 증가하는 정수형 인덱스가 기본값"
   ]
  },
  {
   "cell_type": "code",
   "execution_count": 17,
   "metadata": {},
   "outputs": [
    {
     "data": {
      "text/plain": [
       "16"
      ]
     },
     "execution_count": 17,
     "metadata": {},
     "output_type": "execute_result"
    }
   ],
   "source": [
    "len(inflation)"
   ]
  },
  {
   "cell_type": "code",
   "execution_count": 19,
   "metadata": {},
   "outputs": [
    {
     "data": {
      "text/plain": [
       "array([ 2.2,  3.4,  2.8,  1.6,  2.3,  2.7,  3.4,  3.2,  2.8,  3.8, -0.4,\n",
       "        1.6,  3.2,  2.1,  1.5,  1.5])"
      ]
     },
     "execution_count": 19,
     "metadata": {},
     "output_type": "execute_result"
    }
   ],
   "source": [
    "# value 속성값은 시리즈 안의 모든 값 리스트\n",
    "\n",
    "inflation.values"
   ]
  },
  {
   "cell_type": "code",
   "execution_count": 20,
   "metadata": {},
   "outputs": [
    {
     "data": {
      "text/plain": [
       "RangeIndex(start=0, stop=16, step=1)"
      ]
     },
     "execution_count": 20,
     "metadata": {},
     "output_type": "execute_result"
    }
   ],
   "source": [
    "# index 속성값은 시리즈의 인덱스를 의미\n",
    "\n",
    "inflation.index"
   ]
  },
  {
   "cell_type": "code",
   "execution_count": 21,
   "metadata": {},
   "outputs": [
    {
     "data": {
      "text/plain": [
       "array([ 0,  1,  2,  3,  4,  5,  6,  7,  8,  9, 10, 11, 12, 13, 14, 15])"
      ]
     },
     "execution_count": 21,
     "metadata": {},
     "output_type": "execute_result"
    }
   ],
   "source": [
    "# index.values 속성값은 모든 index값의 배열\n",
    "\n",
    "inflation.index.values"
   ]
  },
  {
   "cell_type": "code",
   "execution_count": 24,
   "metadata": {},
   "outputs": [
    {
     "data": {
      "text/plain": [
       "0     2.2\n",
       "1     3.4\n",
       "2     2.8\n",
       "3     1.6\n",
       "4     2.3\n",
       "5     2.7\n",
       "6     3.4\n",
       "7     3.2\n",
       "8     2.8\n",
       "9     3.8\n",
       "10   -0.4\n",
       "11    1.6\n",
       "12    3.2\n",
       "13    2.1\n",
       "14    1.5\n",
       "15    1.6\n",
       "dtype: float64"
      ]
     },
     "execution_count": 24,
     "metadata": {},
     "output_type": "execute_result"
    }
   ],
   "source": [
    "# 배열이기 때문에 마지막의 잘못된 값 수정 가능\n",
    "\n",
    "inflation.values[-1] = 1.6\n",
    "inflation"
   ]
  },
  {
   "cell_type": "markdown",
   "metadata": {},
   "source": [
    "### 시리즈 예제 코드 #2\n",
    "#### - Series의 사용자 인덱스 생성방법(1)\n",
    "- 딕셔너리 자료형 이용"
   ]
  },
  {
   "cell_type": "code",
   "execution_count": 7,
   "metadata": {},
   "outputs": [
    {
     "data": {
      "text/plain": [
       "1999    2.2\n",
       "2000    3.4\n",
       "2001    2.8\n",
       "2002    1.6\n",
       "2003    2.3\n",
       "2004    2.7\n",
       "2005    3.4\n",
       "2006    3.2\n",
       "2007    2.8\n",
       "2008    3.8\n",
       "2009   -0.4\n",
       "2010    1.6\n",
       "2011    3.2\n",
       "2012    2.1\n",
       "2013    1.5\n",
       "2014    1.6\n",
       "2015    NaN\n",
       "dtype: float64"
      ]
     },
     "execution_count": 7,
     "metadata": {},
     "output_type": "execute_result"
    }
   ],
   "source": [
    "import pandas as pd\n",
    "import numpy as np\n",
    "\n",
    "inflation = pd.Series({1999 : 2.2, 2000 : 3.4, 2001 : 2.8, 2002 : 1.6, 2003 : 2.3,\n",
    "                       2004 : 2.7, 2005 : 3.4, 2006 : 3.2, 2007 : 2.8, 2008 : 3.8,\n",
    "                       2009 : -0.4, 2010 : 1.6, 2011 : 3.2, 2012 : 2.1, 2013 : 1.5,\n",
    "                       2014 : 1.6, 2015 : np.nan})\n",
    "inflation"
   ]
  },
  {
   "cell_type": "markdown",
   "metadata": {},
   "source": [
    "#### - Series의 사용자 인덱스 생성방법(2)\n",
    "- 새로운 인덱스 시퀀스를 생성하고 이를 기존의 시리즈에 붙임"
   ]
  },
  {
   "cell_type": "code",
   "execution_count": 6,
   "metadata": {},
   "outputs": [
    {
     "data": {
      "text/plain": [
       "1999    2.2\n",
       "2000    3.4\n",
       "2001    2.8\n",
       "2002    1.6\n",
       "2003    2.3\n",
       "2004    2.7\n",
       "2005    3.4\n",
       "2006    3.2\n",
       "2007    2.8\n",
       "2008    3.8\n",
       "2009   -0.4\n",
       "2010    1.6\n",
       "2011    3.2\n",
       "2012    2.1\n",
       "2013    1.6\n",
       "2014    1.5\n",
       "2015    NaN\n",
       "dtype: float64"
      ]
     },
     "execution_count": 6,
     "metadata": {},
     "output_type": "execute_result"
    }
   ],
   "source": [
    "import numpy as np\n",
    "\n",
    "inflation = pd.Series((2.2, 3.4, 2.8, 1.6, 2.3, 2.7, 3.4, 3.2,\n",
    "                      2.8, 3.8, -0.4, 1.6, 3.2, 2.1, 1.6, 1.5))\n",
    "inflation.index = pd.Index(range(1999, 2015))\n",
    "inflation[2015] = np.nan\n",
    "inflation"
   ]
  },
  {
   "cell_type": "markdown",
   "metadata": {},
   "source": [
    "#### 시리즈와 인덱스에 이름 설정\n",
    "- name 속성을 이용하여 이름 설정"
   ]
  },
  {
   "cell_type": "code",
   "execution_count": 9,
   "metadata": {
    "scrolled": true
   },
   "outputs": [
    {
     "data": {
      "text/plain": [
       "Year\n",
       "1999    2.2\n",
       "2000    3.4\n",
       "2001    2.8\n",
       "2002    1.6\n",
       "2003    2.3\n",
       "2004    2.7\n",
       "2005    3.4\n",
       "2006    3.2\n",
       "2007    2.8\n",
       "2008    3.8\n",
       "2009   -0.4\n",
       "2010    1.6\n",
       "2011    3.2\n",
       "2012    2.1\n",
       "2013    1.5\n",
       "2014    1.6\n",
       "2015    NaN\n",
       "Name: %, dtype: float64"
      ]
     },
     "execution_count": 9,
     "metadata": {},
     "output_type": "execute_result"
    }
   ],
   "source": [
    "inflation.index.name = \"Year\"\n",
    "inflation.name = \"%\"\n",
    "inflation"
   ]
  },
  {
   "cell_type": "markdown",
   "metadata": {},
   "source": [
    "#### 데이터 파악하기\n",
    "- head()나 tail() 함수 이용"
   ]
  },
  {
   "cell_type": "code",
   "execution_count": 12,
   "metadata": {},
   "outputs": [
    {
     "data": {
      "text/plain": [
       "Year\n",
       "1999    2.2\n",
       "2000    3.4\n",
       "2001    2.8\n",
       "2002    1.6\n",
       "2003    2.3\n",
       "Name: %, dtype: float64"
      ]
     },
     "execution_count": 12,
     "metadata": {},
     "output_type": "execute_result"
    }
   ],
   "source": [
    "# head() 기본값 5개\n",
    "\n",
    "inflation.head()"
   ]
  },
  {
   "cell_type": "code",
   "execution_count": 11,
   "metadata": {},
   "outputs": [
    {
     "data": {
      "text/plain": [
       "Year\n",
       "1999    2.2\n",
       "2000    3.4\n",
       "2001    2.8\n",
       "2002    1.6\n",
       "2003    2.3\n",
       "2004    2.7\n",
       "2005    3.4\n",
       "2006    3.2\n",
       "2007    2.8\n",
       "2008    3.8\n",
       "Name: %, dtype: float64"
      ]
     },
     "execution_count": 11,
     "metadata": {},
     "output_type": "execute_result"
    }
   ],
   "source": [
    "inflation.head(10)"
   ]
  },
  {
   "cell_type": "code",
   "execution_count": 13,
   "metadata": {},
   "outputs": [
    {
     "data": {
      "text/plain": [
       "Year\n",
       "2011    3.2\n",
       "2012    2.1\n",
       "2013    1.5\n",
       "2014    1.6\n",
       "2015    NaN\n",
       "Name: %, dtype: float64"
      ]
     },
     "execution_count": 13,
     "metadata": {},
     "output_type": "execute_result"
    }
   ],
   "source": [
    "inflation.tail()"
   ]
  },
  {
   "cell_type": "code",
   "execution_count": 14,
   "metadata": {},
   "outputs": [
    {
     "data": {
      "text/plain": [
       "Year\n",
       "2006    3.2\n",
       "2007    2.8\n",
       "2008    3.8\n",
       "2009   -0.4\n",
       "2010    1.6\n",
       "2011    3.2\n",
       "2012    2.1\n",
       "2013    1.5\n",
       "2014    1.6\n",
       "2015    NaN\n",
       "Name: %, dtype: float64"
      ]
     },
     "execution_count": 14,
     "metadata": {},
     "output_type": "execute_result"
    }
   ],
   "source": [
    "inflation.tail(10)"
   ]
  },
  {
   "cell_type": "code",
   "execution_count": null,
   "metadata": {},
   "outputs": [],
   "source": []
  },
  {
   "cell_type": "code",
   "execution_count": null,
   "metadata": {},
   "outputs": [],
   "source": []
  },
  {
   "cell_type": "code",
   "execution_count": null,
   "metadata": {},
   "outputs": [],
   "source": []
  },
  {
   "cell_type": "code",
   "execution_count": null,
   "metadata": {},
   "outputs": [],
   "source": []
  },
  {
   "cell_type": "code",
   "execution_count": null,
   "metadata": {},
   "outputs": [],
   "source": []
  },
  {
   "cell_type": "code",
   "execution_count": null,
   "metadata": {},
   "outputs": [],
   "source": []
  },
  {
   "cell_type": "code",
   "execution_count": null,
   "metadata": {},
   "outputs": [],
   "source": []
  },
  {
   "cell_type": "code",
   "execution_count": null,
   "metadata": {},
   "outputs": [],
   "source": []
  },
  {
   "cell_type": "code",
   "execution_count": null,
   "metadata": {},
   "outputs": [],
   "source": []
  },
  {
   "cell_type": "code",
   "execution_count": null,
   "metadata": {},
   "outputs": [],
   "source": []
  },
  {
   "cell_type": "code",
   "execution_count": null,
   "metadata": {},
   "outputs": [],
   "source": []
  },
  {
   "cell_type": "code",
   "execution_count": null,
   "metadata": {},
   "outputs": [],
   "source": []
  },
  {
   "cell_type": "code",
   "execution_count": null,
   "metadata": {},
   "outputs": [],
   "source": []
  },
  {
   "cell_type": "code",
   "execution_count": null,
   "metadata": {},
   "outputs": [],
   "source": []
  },
  {
   "cell_type": "code",
   "execution_count": null,
   "metadata": {},
   "outputs": [],
   "source": []
  }
 ],
 "metadata": {
  "kernelspec": {
   "display_name": "Python [conda env:pyLab36] *",
   "language": "python",
   "name": "conda-env-pyLab36-py"
  },
  "language_info": {
   "codemirror_mode": {
    "name": "ipython",
    "version": 3
   },
   "file_extension": ".py",
   "mimetype": "text/x-python",
   "name": "python",
   "nbconvert_exporter": "python",
   "pygments_lexer": "ipython3",
   "version": "3.6.9"
  }
 },
 "nbformat": 4,
 "nbformat_minor": 2
}
