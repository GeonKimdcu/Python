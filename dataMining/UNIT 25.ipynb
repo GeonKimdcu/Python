{
 "cells": [
  {
   "cell_type": "markdown",
   "metadata": {},
   "source": [
    "# UNIT 25 유니버셜 함수 파헤치기"
   ]
  },
  {
   "cell_type": "markdown",
   "metadata": {},
   "source": [
    "### 벡터화된 유니버셜 함수(ufunc)"
   ]
  },
  {
   "cell_type": "markdown",
   "metadata": {},
   "source": [
    "#### 유니버셜 함수는 브로드캐스팅의 함수형 버전\n",
    "\n",
    "#### 유니버셜 함수를 사용 -> 한번에 배열의 모든 아이템에 적용\n",
    "\n",
    "#### Numpy에서는 다양한 유니버셜 함수를 제공\n",
    "\n",
    "- 사칙연산 : add(), multiply(), negative(), exp(), log(), sqrt()\n",
    "\n",
    "- 삼각함수 : sin(), cos(), hypot()\n",
    "\n",
    "- 비트 단위 : bitwise_and(), left_shift()\n",
    "\n",
    "- 관계형, 논리 : less(), logical_not(), equal()\n",
    "\n",
    "- maximum()과 minimum()\n",
    "\n",
    "- 부동소수점에 적용할 수 있는 함수 : isinf(), infinite(), floor(), isnan()"
   ]
  },
  {
   "cell_type": "markdown",
   "metadata": {},
   "source": [
    "### 2016년 1월 10일을 기준으로 전후 주식 8개의 가격"
   ]
  },
  {
   "cell_type": "code",
   "execution_count": 2,
   "metadata": {},
   "outputs": [
    {
     "data": {
      "text/plain": [
       "array([140.49,   0.97,  40.68,  41.53,  55.7 ,  57.21,  98.2 ,  99.19,\n",
       "       109.96, 111.47,  35.71,  36.72,  87.85,  89.11,  30.22,  30.91])"
      ]
     },
     "execution_count": 2,
     "metadata": {},
     "output_type": "execute_result"
    }
   ],
   "source": [
    "import numpy as np\n",
    "\n",
    "stocks = np.array([140.49, 0.97, 40.68, 41.53, 55.7,\n",
    "                   57.21, 98.2, 99.19, 109.96, 111.47,\n",
    "                   35.71, 36.72, 87.85, 89.11, 30.22,\n",
    "                   30.91])\n",
    "\n",
    "stocks"
   ]
  },
  {
   "cell_type": "code",
   "execution_count": 3,
   "metadata": {},
   "outputs": [
    {
     "data": {
      "text/plain": [
       "array([[140.49,  40.68,  55.7 ,  98.2 , 109.96,  35.71,  87.85,  30.22],\n",
       "       [  0.97,  41.53,  57.21,  99.19, 111.47,  36.72,  89.11,  30.91]])"
      ]
     },
     "execution_count": 3,
     "metadata": {},
     "output_type": "execute_result"
    }
   ],
   "source": [
    "# 기준 시점 전 그룹 / 후 그룹으로 나열해서 2*8행렬로 만든다\n",
    "\n",
    "stocks = stocks.reshape(8,2).T\n",
    "stocks"
   ]
  },
  {
   "cell_type": "markdown",
   "metadata": {},
   "source": [
    "#### np.greater(x1, x2) : element-wise로 x1 > x2 비교 연산 결과 T or F 반환"
   ]
  },
  {
   "cell_type": "code",
   "execution_count": 4,
   "metadata": {},
   "outputs": [
    {
     "data": {
      "text/plain": [
       "array([ True, False, False, False, False, False, False, False])"
      ]
     },
     "execution_count": 4,
     "metadata": {},
     "output_type": "execute_result"
    }
   ],
   "source": [
    "# stocks[0] > stocks[1] 비교 후, 크면 True, 작으면 False\n",
    "\n",
    "fall = np.greater(stocks[0], stocks[1])\n",
    "fall"
   ]
  },
  {
   "cell_type": "code",
   "execution_count": 6,
   "metadata": {},
   "outputs": [
    {
     "data": {
      "text/plain": [
       "array(['MMM', 'ABT', 'ABBV', 'ACN', 'ACE', 'ATVI', 'ADBE', 'ADT'],\n",
       "      dtype='<U4')"
      ]
     },
     "execution_count": 6,
     "metadata": {},
     "output_type": "execute_result"
    }
   ],
   "source": [
    "sap = np.array([\"MMM\", \"ABT\", \"ABBV\", \"ACN\", \n",
    "                \"ACE\", \"ATVI\", \"ADBE\", \"ADT\"])\n",
    "sap"
   ]
  },
  {
   "cell_type": "code",
   "execution_count": 8,
   "metadata": {},
   "outputs": [
    {
     "data": {
      "text/plain": [
       "array(['MMM'], dtype='<U4')"
      ]
     },
     "execution_count": 8,
     "metadata": {},
     "output_type": "execute_result"
    }
   ],
   "source": [
    "# 불 인덱싱을 사용해서 원하는 결과 출력\n",
    "\n",
    "sap[fall]"
   ]
  },
  {
   "cell_type": "markdown",
   "metadata": {},
   "source": [
    "### 예제 1"
   ]
  },
  {
   "cell_type": "code",
   "execution_count": 11,
   "metadata": {},
   "outputs": [
    {
     "name": "stdout",
     "output_type": "stream",
     "text": [
      "[4 2]\n",
      "[2 3]\n"
     ]
    },
    {
     "data": {
      "text/plain": [
       "array([ True, False])"
      ]
     },
     "execution_count": 11,
     "metadata": {},
     "output_type": "execute_result"
    }
   ],
   "source": [
    "import numpy as np\n",
    "\n",
    "a = np.array([4,2])\n",
    "print(a)\n",
    "\n",
    "b = np.array([2,3])\n",
    "print(b)\n",
    "\n",
    "np.greater(a,b) # 4 > 2 True, 2 > 3 False"
   ]
  },
  {
   "cell_type": "code",
   "execution_count": 12,
   "metadata": {},
   "outputs": [
    {
     "data": {
      "text/plain": [
       "array([ True, False])"
      ]
     },
     "execution_count": 12,
     "metadata": {},
     "output_type": "execute_result"
    }
   ],
   "source": [
    "# 위와 같은 코드\n",
    "\n",
    "a = np.array([4,2])\n",
    "b = np.array([2,3])\n",
    "a>b"
   ]
  },
  {
   "cell_type": "markdown",
   "metadata": {},
   "source": [
    "### 예제 2"
   ]
  },
  {
   "cell_type": "code",
   "execution_count": 13,
   "metadata": {},
   "outputs": [
    {
     "name": "stdout",
     "output_type": "stream",
     "text": [
      "[4, 2]\n",
      "[2, 3]\n"
     ]
    },
    {
     "data": {
      "text/plain": [
       "array([ True, False])"
      ]
     },
     "execution_count": 13,
     "metadata": {},
     "output_type": "execute_result"
    }
   ],
   "source": [
    "a = list([4,2])\n",
    "print(a)\n",
    "\n",
    "b = list([2,3])\n",
    "print(b)\n",
    "\n",
    "np.greater(a,b)"
   ]
  },
  {
   "cell_type": "code",
   "execution_count": 15,
   "metadata": {},
   "outputs": [
    {
     "data": {
      "text/plain": [
       "True"
      ]
     },
     "execution_count": 15,
     "metadata": {},
     "output_type": "execute_result"
    }
   ],
   "source": [
    "# 위와 같은 코드\n",
    "\n",
    "a = list([4,2])\n",
    "b = list([2,3])\n",
    "a>b  # 위와 결과값이 다르게 출력됨"
   ]
  },
  {
   "cell_type": "markdown",
   "metadata": {},
   "source": [
    "### isnan()을 이용해 결측치 찾기"
   ]
  },
  {
   "cell_type": "markdown",
   "metadata": {},
   "source": [
    "매개변수가 숫자인지 아닌지 검사하는 함수(nan은 not a number)\n",
    "\n",
    "np.isnan(value)\n",
    "\n",
    "- value는 검사할 값을 입력\n",
    "- value가 전통적인 숫자, IEEE 754 부동소수점 기준, 양수 무한대(inf), 음의 무한대, 불(Bool)값이면 False, 그렇지 않고 nan(float(\"nan\"))이면 False를 반환"
   ]
  },
  {
   "cell_type": "code",
   "execution_count": 17,
   "metadata": {},
   "outputs": [
    {
     "name": "stdout",
     "output_type": "stream",
     "text": [
      "[123.1   1.    0.    nan   inf  -inf]\n"
     ]
    },
    {
     "data": {
      "text/plain": [
       "array([False, False, False,  True, False, False])"
      ]
     },
     "execution_count": 17,
     "metadata": {},
     "output_type": "execute_result"
    }
   ],
   "source": [
    "a = np.array([123.1, True, False, np.nan, np.inf, np.NINF])\n",
    "print(a)\n",
    "np.isnan(a)\n",
    "\n",
    "# np.nan => True / 나머지 => False"
   ]
  },
  {
   "cell_type": "markdown",
   "metadata": {},
   "source": [
    "### 예제"
   ]
  },
  {
   "cell_type": "code",
   "execution_count": 20,
   "metadata": {},
   "outputs": [
    {
     "name": "stdout",
     "output_type": "stream",
     "text": [
      "[[140.49  40.68  55.7   98.2  109.96  35.71  87.85  30.22]\n",
      " [   nan  41.53  57.21  99.19 111.47  36.72  89.11  30.91]]\n"
     ]
    },
    {
     "data": {
      "text/plain": [
       "array([[False, False, False, False, False, False, False, False],\n",
       "       [ True, False, False, False, False, False, False, False]])"
      ]
     },
     "execution_count": 20,
     "metadata": {},
     "output_type": "execute_result"
    }
   ],
   "source": [
    "# 새 MMM 주식 가격이 결측치라고 가정해 보자.\n",
    "\n",
    "stocks[1,0] = np.nan\n",
    "print(stocks)\n",
    "np.isnan(stocks)"
   ]
  },
  {
   "cell_type": "code",
   "execution_count": 21,
   "metadata": {},
   "outputs": [
    {
     "data": {
      "text/plain": [
       "array([[140.49,  40.68,  55.7 ,  98.2 , 109.96,  35.71,  87.85,  30.22],\n",
       "       [  0.  ,  41.53,  57.21,  99.19, 111.47,  36.72,  89.11,  30.91]])"
      ]
     },
     "execution_count": 21,
     "metadata": {},
     "output_type": "execute_result"
    }
   ],
   "source": [
    "# 결측치를 수정해보자. 이보다 더 나쁠 수는 없다.\n",
    "\n",
    "stocks[np.isnan(stocks)] = 0\n",
    "stocks"
   ]
  }
 ],
 "metadata": {
  "kernelspec": {
   "display_name": "Python [conda env:pyLab36] *",
   "language": "python",
   "name": "conda-env-pyLab36-py"
  },
  "language_info": {
   "codemirror_mode": {
    "name": "ipython",
    "version": 3
   },
   "file_extension": ".py",
   "mimetype": "text/x-python",
   "name": "python",
   "nbconvert_exporter": "python",
   "pygments_lexer": "ipython3",
   "version": "3.6.9"
  }
 },
 "nbformat": 4,
 "nbformat_minor": 2
}
