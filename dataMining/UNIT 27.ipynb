{
 "cells": [
  {
   "cell_type": "markdown",
   "metadata": {},
   "source": [
    "# UNIT 27 배열 집계와 정렬하기"
   ]
  },
  {
   "cell_type": "code",
   "execution_count": 2,
   "metadata": {},
   "outputs": [
    {
     "data": {
      "text/plain": [
       "array([[140.49,  40.68,  55.7 ,  98.2 , 109.96,  35.71,  87.85,  30.22],\n",
       "       [  0.97,  41.53,  57.21,  99.19, 111.47,  36.72,  89.11,  30.91]])"
      ]
     },
     "execution_count": 2,
     "metadata": {},
     "output_type": "execute_result"
    }
   ],
   "source": [
    "import numpy as np\n",
    "\n",
    "stocks = np.array([140.49, 0.97, 40.68, 41.53, 55.7,\n",
    "                   57.21, 98.2, 99.19, 109.96, 111.47,\n",
    "                   35.71, 36.72, 87.85, 89.11, 30.22,\n",
    "                   30.91])\n",
    "\n",
    "stocks = stocks.reshape(8,2).T\n",
    "stocks"
   ]
  },
  {
   "cell_type": "code",
   "execution_count": 3,
   "metadata": {},
   "outputs": [],
   "source": [
    "sap = np.array([\"MMM\", \"ABT\", \"ABBV\", \"ACN\", \"ACE\", \"ATVI\", \"ADBE\", \"ADT\"])"
   ]
  },
  {
   "cell_type": "markdown",
   "metadata": {},
   "source": [
    "### 배열 집계: mean(), sum(), min(), max()함수\n",
    " - 전체 8개 주식의 평균적인 수준보다 크게 변화한 주식들을 추출"
   ]
  },
  {
   "cell_type": "code",
   "execution_count": 4,
   "metadata": {},
   "outputs": [
    {
     "data": {
      "text/plain": [
       "array(['MMM'], dtype='<U4')"
      ]
     },
     "execution_count": 4,
     "metadata": {},
     "output_type": "execute_result"
    }
   ],
   "source": [
    "sap[np.abs(stocks[0] - stocks[1]) > np.mean(np.abs(stocks[0]-stocks[1]))]"
   ]
  },
  {
   "cell_type": "markdown",
   "metadata": {},
   "source": [
    "### 예제) - 이자율이 3.75%일 때 30년 후 단리와 복리 이자 비용 비교하기\n",
    "- cumsum(x) : 누적 합\n",
    "- cumprod(x) : 누적 곱"
   ]
  },
  {
   "cell_type": "code",
   "execution_count": 5,
   "metadata": {},
   "outputs": [],
   "source": [
    "# 코드의 일부\n",
    "\n",
    "RATE = .0375\n",
    "TERM = 30\n",
    "simple = (RATE * np.ones(TERM)).cumsum()\n",
    "compound = ((1+RATE)*np.ones(TERM)).cumprod()-1\n"
   ]
  },
  {
   "cell_type": "code",
   "execution_count": 6,
   "metadata": {},
   "outputs": [
    {
     "data": {
      "text/plain": [
       "array([0.0375, 0.075 , 0.1125, 0.15  , 0.1875, 0.225 , 0.2625, 0.3   ,\n",
       "       0.3375, 0.375 , 0.4125, 0.45  , 0.4875, 0.525 , 0.5625, 0.6   ,\n",
       "       0.6375, 0.675 , 0.7125, 0.75  , 0.7875, 0.825 , 0.8625, 0.9   ,\n",
       "       0.9375, 0.975 , 1.0125, 1.05  , 1.0875, 1.125 ])"
      ]
     },
     "execution_count": 6,
     "metadata": {},
     "output_type": "execute_result"
    }
   ],
   "source": [
    "simple"
   ]
  },
  {
   "cell_type": "code",
   "execution_count": 7,
   "metadata": {},
   "outputs": [
    {
     "data": {
      "text/plain": [
       "array([0.0375    , 0.07640625, 0.11677148, 0.15865042, 0.20209981,\n",
       "       0.24717855, 0.29394774, 0.34247078, 0.39281344, 0.44504394,\n",
       "       0.49923309, 0.55545433, 0.61378387, 0.67430076, 0.73708704,\n",
       "       0.80222781, 0.86981135, 0.93992927, 1.01267662, 1.088152  ,\n",
       "       1.1664577 , 1.24769986, 1.3319886 , 1.41943818, 1.51016711,\n",
       "       1.60429838, 1.70195956, 1.80328305, 1.90840616, 2.01747139])"
      ]
     },
     "execution_count": 7,
     "metadata": {},
     "output_type": "execute_result"
    }
   ],
   "source": [
    "compound"
   ]
  },
  {
   "cell_type": "markdown",
   "metadata": {},
   "source": [
    "### 정렬 : sort( )함수\n",
    "- 배열을 그 자리에서 정렬하고(원래 배열의 순서를 바꾼다)Non을 반환함\n",
    "- 원래 배열을 유지하고 싶다면 정렬하기 전에 복사본을 만들어야 함"
   ]
  },
  {
   "cell_type": "code",
   "execution_count": 18,
   "metadata": {},
   "outputs": [],
   "source": [
    "stocks_copy = stocks.copy() # 복사본 생성"
   ]
  },
  {
   "cell_type": "code",
   "execution_count": 19,
   "metadata": {},
   "outputs": [
    {
     "data": {
      "text/plain": [
       "array([[ 30.22,  35.71,  40.68,  55.7 ,  87.85,  98.2 , 109.96, 140.49],\n",
       "       [  0.97,  30.91,  36.72,  41.53,  57.21,  89.11,  99.19, 111.47]])"
      ]
     },
     "execution_count": 19,
     "metadata": {},
     "output_type": "execute_result"
    }
   ],
   "source": [
    "stocks_copy.sort()\n",
    "stocks_copy"
   ]
  },
  {
   "cell_type": "code",
   "execution_count": 20,
   "metadata": {},
   "outputs": [
    {
     "data": {
      "text/plain": [
       "array([[  0.97,  30.91,  36.72,  41.53,  57.21,  89.11,  99.19, 111.47],\n",
       "       [ 30.22,  35.71,  40.68,  55.7 ,  87.85,  98.2 , 109.96, 140.49]])"
      ]
     },
     "execution_count": 20,
     "metadata": {},
     "output_type": "execute_result"
    }
   ],
   "source": [
    "stocks_copy.sort(axis=0) # 행 기준 위아래 작은 값들이 위로 올라감\n",
    "stocks_copy"
   ]
  }
 ],
 "metadata": {
  "kernelspec": {
   "display_name": "Python [conda env:Pylab36] *",
   "language": "python",
   "name": "conda-env-Pylab36-py"
  },
  "language_info": {
   "codemirror_mode": {
    "name": "ipython",
    "version": 3
   },
   "file_extension": ".py",
   "mimetype": "text/x-python",
   "name": "python",
   "nbconvert_exporter": "python",
   "pygments_lexer": "ipython3",
   "version": "3.7.5"
  }
 },
 "nbformat": 4,
 "nbformat_minor": 2
}
