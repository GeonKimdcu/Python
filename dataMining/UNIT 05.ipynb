{
 "cells": [
  {
   "cell_type": "markdown",
   "metadata": {},
   "source": [
    "# UNIT 05 올바른 자료구조 선택하기"
   ]
  },
  {
   "cell_type": "markdown",
   "metadata": {},
   "source": [
    "### 리스트"
   ]
  },
  {
   "cell_type": "code",
   "execution_count": 3,
   "metadata": {},
   "outputs": [
    {
     "name": "stdout",
     "output_type": "stream",
     "text": [
      "[10, 'aaa', 3.14, True] <class 'list'>\n",
      "4\n"
     ]
    }
   ],
   "source": [
    "myList1 = [10, 'aaa', 3.14, True]\n",
    "print(myList1, type(myList1))\n",
    "print(len(myList1))"
   ]
  },
  {
   "cell_type": "markdown",
   "metadata": {},
   "source": [
    "### 튜플"
   ]
  },
  {
   "cell_type": "code",
   "execution_count": 16,
   "metadata": {
    "scrolled": true
   },
   "outputs": [
    {
     "name": "stdout",
     "output_type": "stream",
     "text": [
      "(10, 20, 30, 40, 50) <class 'tuple'>\n",
      "10\n",
      "50\n",
      "(10, 20, 30, 40)\n"
     ]
    }
   ],
   "source": [
    "myT= (10,20,30,40,50)\n",
    "print(myT, type(myT))\n",
    "print(myT[0])\n",
    "print(myT[-1])\n",
    "print(myT[0:4])\n",
    " # myT[0]=100   수정 불가능하기 때문에 Error 발생! "
   ]
  },
  {
   "cell_type": "code",
   "execution_count": 9,
   "metadata": {
    "scrolled": true
   },
   "outputs": [
    {
     "name": "stdout",
     "output_type": "stream",
     "text": [
      "10 <class 'int'>\n",
      "3.14 <class 'float'>\n",
      "(10, 20, 30) <class 'tuple'>\n",
      "10 <class 'int'>\n",
      "aa <class 'str'>\n"
     ]
    }
   ],
   "source": [
    "# 변수 각각 지정하는 것과 한꺼번에 지정하는 것이 똑같음 \n",
    "a=10\n",
    "b=20\n",
    "c=30\n",
    "a,b,c = 10,3.14,30\n",
    "\n",
    "print(a, type(a))\n",
    "print(b, type(b))\n",
    "\n",
    "d = 10,20,30 # packing 발생\n",
    "print(d,type(d)) # 튜플로 만들어짐\n",
    "\n",
    "e,f,g = (10,20,'aa') # unpacking 발생\n",
    "print(e, type(e))    # 튜플 형성 x\n",
    "print(g, type(g))"
   ]
  },
  {
   "cell_type": "code",
   "execution_count": 12,
   "metadata": {},
   "outputs": [
    {
     "name": "stdout",
     "output_type": "stream",
     "text": [
      "100 <class 'int'>\n",
      "(100,) <class 'tuple'>\n",
      "5\n",
      "[10, 20, 30, 40, 50] <class 'list'>\n"
     ]
    }
   ],
   "source": [
    "h = (100)  # 일반 원소  \n",
    "print(h, type(h))\n",
    "\n",
    "i = (100,) # 튜플(100과 쉼표가 있기 때문에)\n",
    "print(i, type(i))\n",
    "\n",
    "myT = tuple((10,20,30,40,50))\n",
    "print(len(myT))\n",
    "\n",
    "myT1 = list(myT)  # 리스트로 형변환\n",
    "print(myT1, type(myT1))"
   ]
  },
  {
   "cell_type": "markdown",
   "metadata": {},
   "source": [
    "### 셋"
   ]
  },
  {
   "cell_type": "code",
   "execution_count": 22,
   "metadata": {
    "scrolled": true
   },
   "outputs": [
    {
     "name": "stdout",
     "output_type": "stream",
     "text": [
      "{100, 10, 20, 30} <class 'set'>\n",
      "{100, 200, 10, 20, 30} <class 'set'>\n",
      "{100, 5, 6, 7, 200, 10, 20, 30} <class 'set'>\n",
      "{100, 5, 6, 7, 10, 20, 30} <class 'set'>\n",
      "[1000, 5, 6, 7, 10, 20, 30] <class 'list'>\n"
     ]
    }
   ],
   "source": [
    "myS = {10,20,30,30,100}\n",
    "print(myS, type(myS))\n",
    " # print(myS[0])셋에는 인덱스 개념 없어서 Error 발생\n",
    "\n",
    "myS.add(200)  # add 함수 이용 값 추가\n",
    "print(myS, type(myS))\n",
    "\n",
    "myS.update([5,6,7])  # update 함수 이용 여러 개 값 추가\n",
    "print(myS, type(myS))\n",
    "\n",
    "myS.remove(200)  # remove 함수 이용 값 제거\n",
    "print(myS, type(myS))\n",
    "\n",
    "mySO = list(myS)  # list로 형변환\n",
    "mySO[0] = 1000\n",
    "print(mySO, type(mySO))"
   ]
  },
  {
   "cell_type": "code",
   "execution_count": 25,
   "metadata": {},
   "outputs": [
    {
     "name": "stdout",
     "output_type": "stream",
     "text": [
      "{20, 30}\n",
      "{50, 20, 40, 10, 30}\n",
      "{10}\n",
      "{40, 50}\n",
      "{40, 10, 50}\n"
     ]
    }
   ],
   "source": [
    "myS1 = {10, 20, 30}\n",
    "myS2 = {20, 30, 40, 50}\n",
    "print(myS1 & myS2)  # 교집합\n",
    "print(myS1 | myS2)  # 합집합\n",
    "print(myS1 - myS2)  # 차집합\n",
    "print(myS2 - myS1)\n",
    "print(myS1 ^ myS2)  # 여집합"
   ]
  },
  {
   "cell_type": "markdown",
   "metadata": {},
   "source": [
    "### 딕셔너리"
   ]
  },
  {
   "cell_type": "code",
   "execution_count": 34,
   "metadata": {},
   "outputs": [
    {
     "name": "stdout",
     "output_type": "stream",
     "text": [
      "{10: 'aaa', 20: 'bbb', 30: 'ccc'} <class 'dict'>\n",
      "AAA\n",
      "bbb\n",
      "{10: 'aaa', 20: 'BBB', 30: 'ccc'}\n",
      "{10: 'aaa', 20: 'BBB', 30: 'ccc', 40: 'ddd'}\n",
      "[10, 20, 30, 40] <class 'list'>\n"
     ]
    }
   ],
   "source": [
    "myD = {10: 'aaa', 20: 'bbb', 30: 'ccc'}\n",
    "print(myD, type(myD))\n",
    "\n",
    "# print(myD[0])   순서가 없기 때문에 인덱스  x Error 발생\n",
    "\n",
    "myD[10] = 'AAA'\n",
    "print(myD[10])\n",
    "print(myD[20])\n",
    "\n",
    "myD1 = {10:'aaa', 20:'bbb', 30:'ccc', 20:'BBB'}\n",
    "print(myD1)  # 중복이 되서 앞에껀 지워짐\n",
    "myD1[40] = 'ddd'\n",
    "print(myD1)\n",
    "\n",
    "myD2 = list(myD1)  # list로 형변환\n",
    "print(myD2, type(myD2))"
   ]
  },
  {
   "cell_type": "code",
   "execution_count": 35,
   "metadata": {},
   "outputs": [
    {
     "data": {
      "text/plain": [
       "{0: 'alpha', 1: 'bravo', 2: 'charlie', 3: 'delta'}"
      ]
     },
     "execution_count": 35,
     "metadata": {},
     "output_type": "execute_result"
    }
   ],
   "source": [
    "# 리스트에서 딕셔너리 만들기\n",
    "seq = [\"alpha\", \"bravo\", \"charlie\", \"delta\"]\n",
    "dict(enumerate(seq))"
   ]
  },
  {
   "cell_type": "code",
   "execution_count": 36,
   "metadata": {},
   "outputs": [
    {
     "data": {
      "text/plain": [
       "{'a': 'alpha', 'b': 'bravo', 'c': 'charlie', 'd': 'delta'}"
      ]
     },
     "execution_count": 36,
     "metadata": {},
     "output_type": "execute_result"
    }
   ],
   "source": [
    "# 클래스 생성자를 이용하여 만들기\n",
    "kseq = \"abcd\"  # 문자열 또한 순서열이다.\n",
    "vseq = [\"alpha\", \"bravo\", \"charlie\", \"delta\"]\n",
    "dict(zip(kseq, vseq))"
   ]
  },
  {
   "cell_type": "code",
   "execution_count": 37,
   "metadata": {},
   "outputs": [
    {
     "data": {
      "text/plain": [
       "{'key1': 'value1', 'key2': 'value2'}"
      ]
     },
     "execution_count": 37,
     "metadata": {},
     "output_type": "execute_result"
    }
   ],
   "source": [
    "a_list = [(\"key1\", \"value1\"), (\"key2\", \"value2\")]\n",
    "dict(a_list) "
   ]
  }
 ],
 "metadata": {
  "kernelspec": {
   "display_name": "Python [conda env:pyLab] *",
   "language": "python",
   "name": "conda-env-pyLab-py"
  },
  "language_info": {
   "codemirror_mode": {
    "name": "ipython",
    "version": 3
   },
   "file_extension": ".py",
   "mimetype": "text/x-python",
   "name": "python",
   "nbconvert_exporter": "python",
   "pygments_lexer": "ipython3",
   "version": "3.6.9"
  }
 },
 "nbformat": 4,
 "nbformat_minor": 2
}
