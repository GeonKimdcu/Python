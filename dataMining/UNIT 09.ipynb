{
 "cells": [
  {
   "cell_type": "markdown",
   "metadata": {},
   "source": [
    "# UNIT 09 웹에 접근하기"
   ]
  },
  {
   "cell_type": "markdown",
   "metadata": {},
   "source": [
    "### urllib.request 모듈"
   ]
  },
  {
   "cell_type": "code",
   "execution_count": 2,
   "metadata": {},
   "outputs": [],
   "source": [
    "import urllib.request\n",
    "try:\n",
    "    with urllib.request.urlopen(\"http://www.networksciencelab.com\") as doc:\n",
    "        html = doc.read()\n",
    "        # 성공적으로 URL을 읽었다면 접속이 자동으로 종료된다.\n",
    "except:\n",
    "    print(\"Cloud not open %s\" %doc, file=sys.err)\n",
    "    #파일을 읽었다고 거짓말을 하면 안 된다!\n",
    "    # 여기서 오류 핸들러를 실행한다."
   ]
  },
  {
   "cell_type": "markdown",
   "metadata": {},
   "source": [
    "### urllib.parse 모듈"
   ]
  },
  {
   "cell_type": "code",
   "execution_count": 1,
   "metadata": {},
   "outputs": [
    {
     "data": {
      "text/plain": [
       "ParseResult(scheme='http', netloc='networksciencelab.com', path='/index.html', params='param', query='foo=bar', fragment='content')"
      ]
     },
     "execution_count": 1,
     "metadata": {},
     "output_type": "execute_result"
    }
   ],
   "source": [
    "# urlparse()함수는 스키마(http), 네트워크 주소, 파일 시스템 경로, 파라미터, \n",
    "# 쿼리(query), 프래그먼트(fragment)의 6개 아이템으로 구성된 튜플로 분리하여 반환\n",
    "\n",
    "import urllib.parse\n",
    "URL = \"http://networksciencelab.com/index.html;param?foo=bar#content\"\n",
    "urllib.parse.urlparse(URL)"
   ]
  },
  {
   "cell_type": "code",
   "execution_count": 4,
   "metadata": {},
   "outputs": [
    {
     "name": "stdout",
     "output_type": "stream",
     "text": [
      "http\n",
      "networksciencelab.com\n",
      "/index.html\n",
      "param\n",
      "foo=bar\n",
      "content\n"
     ]
    }
   ],
   "source": [
    "import urllib.parse\n",
    "URL = \"http://networksciencelab.com/index.html;param?foo=bar#content\"\n",
    "parts = urllib.parse.urlparse(URL)\n",
    "\n",
    "print(parts.scheme)\n",
    "print(parts.netloc)\n",
    "print(parts.path)\n",
    "print(parts.params)\n",
    "print(parts.query)\n",
    "print(parts.fragment)"
   ]
  },
  {
   "cell_type": "markdown",
   "metadata": {},
   "source": [
    "### 값을 변경하려면 _replace 사용"
   ]
  },
  {
   "cell_type": "code",
   "execution_count": 9,
   "metadata": {},
   "outputs": [
    {
     "name": "stdout",
     "output_type": "stream",
     "text": [
      "https\n"
     ]
    }
   ],
   "source": [
    "# urlparse()함수를 이용한 반환값은 기본적으로 immutable\n",
    "# 값을 변경하려면 _replace를 사용하여 새로운 객체를 반환\n",
    "\n",
    "from urllib.parse import urlparse\n",
    "\n",
    "parts = urlparse(\"http://networksciencelab.com/index.html;param?foo=bar#content\")\n",
    "\n",
    "# parts.scheme = 'http'  => AttributeError 발생\n",
    "parts = parts._replace(scheme = 'https') # http를 https로 변경\n",
    "\n",
    "print(parts.scheme)"
   ]
  },
  {
   "cell_type": "markdown",
   "metadata": {},
   "source": [
    "### urlunparse() : URL 역파싱"
   ]
  },
  {
   "cell_type": "code",
   "execution_count": 11,
   "metadata": {},
   "outputs": [
    {
     "name": "stdout",
     "output_type": "stream",
     "text": [
      "https://networksciencelab.com/index.html;param?foo=bar#content\n",
      "https://networksciencelab.com/index.html;param?foo=bar#content\n"
     ]
    }
   ],
   "source": [
    "# ParseResult를 다시 URL로 만들기 위해, geturl()메소드나 urlunparse()함수 이용\n",
    "\n",
    "from urllib.parse import ParseResult, urlunparse\n",
    "\n",
    "parts = ParseResult(scheme = 'https', netloc = 'networksciencelab.com',\n",
    "                   path='/index.html', params='param', query='foo=bar',\n",
    "                   fragment='content')\n",
    "\n",
    "print(parts.geturl())\n",
    "print(urlunparse(parts))"
   ]
  }
 ],
 "metadata": {
  "kernelspec": {
   "display_name": "Python [conda env:pyLab36] *",
   "language": "python",
   "name": "conda-env-pyLab36-py"
  },
  "language_info": {
   "codemirror_mode": {
    "name": "ipython",
    "version": 3
   },
   "file_extension": ".py",
   "mimetype": "text/x-python",
   "name": "python",
   "nbconvert_exporter": "python",
   "pygments_lexer": "ipython3",
   "version": "3.6.9"
  }
 },
 "nbformat": 4,
 "nbformat_minor": 2
}
