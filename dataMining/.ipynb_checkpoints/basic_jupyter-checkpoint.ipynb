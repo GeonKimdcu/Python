{
 "cells": [
  {
   "cell_type": "markdown",
   "metadata": {},
   "source": [
    "마크다운 실행: ctrl + Enter"
   ]
  },
  {
   "cell_type": "markdown",
   "metadata": {},
   "source": [
    "# 1. 큰제목: 문서제목"
   ]
  },
  {
   "cell_type": "markdown",
   "metadata": {},
   "source": [
    "This is an H1\n",
    "============"
   ]
  },
  {
   "cell_type": "markdown",
   "metadata": {},
   "source": [
    "2. 작은 제목: 문서 부제목"
   ]
  },
  {
   "cell_type": "markdown",
   "metadata": {},
   "source": [
    "This is an H2\n",
    "-------------------"
   ]
  },
  {
   "cell_type": "markdown",
   "metadata": {},
   "source": [
    "3. 글머리: 1 ~ 6까지만 지원"
   ]
  },
  {
   "cell_type": "markdown",
   "metadata": {},
   "source": [
    "# This is a H1\n",
    "## This is a H2\n",
    "### This is a H3\n",
    "#### This is a H4\n",
    "##### This is a H5\n",
    "###### This is a H6"
   ]
  },
  {
   "cell_type": "markdown",
   "metadata": {},
   "source": [
    "4. 순서있는 목록(번호)"
   ]
  },
  {
   "cell_type": "markdown",
   "metadata": {},
   "source": [
    "1. 첫번째\n",
    "2. 두번째\n",
    "3. 세번째"
   ]
  },
  {
   "cell_type": "markdown",
   "metadata": {},
   "source": [
    "5. 순서없는 목록(글머리 기호)"
   ]
  },
  {
   "cell_type": "markdown",
   "metadata": {},
   "source": [
    "* 빨강\n",
    "  * 녹색\n",
    "    * 파랑\n",
    "\n",
    "+ 빨강\n",
    "  + 녹색\n",
    "    + 파랑\n",
    "\n",
    "- 빨강\n",
    "  - 녹색\n",
    "    - 파랑"
   ]
  },
  {
   "cell_type": "markdown",
   "metadata": {},
   "source": [
    "* 1단계\n",
    "    - 2단계\n",
    "        + 3단계\n",
    "            = 4단계"
   ]
  },
  {
   "cell_type": "markdown",
   "metadata": {},
   "source": [
    "6. 수평선(페이지 나누기)"
   ]
  },
  {
   "cell_type": "markdown",
   "metadata": {},
   "source": [
    "* * *\n",
    "\n",
    "***\n",
    "\n",
    "*****\n",
    "\n",
    "- - -\n",
    "\n",
    "---------------------------------------"
   ]
  },
  {
   "cell_type": "markdown",
   "metadata": {},
   "source": [
    "7. 링크"
   ]
  },
  {
   "cell_type": "markdown",
   "metadata": {},
   "source": [
    "* 참조링크\n",
    "\n",
    "* [link keyword][id]\n",
    "* [id]: URL \"Optional Title here\""
   ]
  },
  {
   "cell_type": "markdown",
   "metadata": {},
   "source": [
    "Link: [Google][googlelink]\n",
    "[googlelink]: https://google.com \"Go google\""
   ]
  },
  {
   "cell_type": "markdown",
   "metadata": {},
   "source": [
    "* 자동연결"
   ]
  },
  {
   "cell_type": "markdown",
   "metadata": {},
   "source": [
    "<https://google.com/>"
   ]
  },
  {
   "cell_type": "markdown",
   "metadata": {},
   "source": [
    "8. 강조"
   ]
  },
  {
   "cell_type": "markdown",
   "metadata": {},
   "source": [
    "*text editor*\n",
    "_text editor_\n",
    "**text editor**\n",
    "__text editor__\n",
    "~~text editor~~"
   ]
  },
  {
   "cell_type": "markdown",
   "metadata": {},
   "source": [
    "9. 이미지"
   ]
  },
  {
   "cell_type": "markdown",
   "metadata": {},
   "source": [
    "* ![Alt text](/path/to/img.jpg)\n",
    "* ![Alt text](/path/to/img.jpg \"Optional title\")"
   ]
  },
  {
   "cell_type": "markdown",
   "metadata": {},
   "source": [
    "10. 편집/명령 모드"
   ]
  },
  {
   "cell_type": "markdown",
   "metadata": {},
   "source": [
    "명령모드(셀의 테두리가 파란색)에서 편집모드(셀의 테두리가 초록색)로 들어가려면 Enter 키를, 반대로는 Esc 키를 누름"
   ]
  },
  {
   "cell_type": "markdown",
   "metadata": {},
   "source": [
    "11. 매직 명령어 "
   ]
  },
  {
   "cell_type": "code",
   "execution_count": 8,
   "metadata": {},
   "outputs": [
    {
     "data": {
      "text/plain": [
       "'C:\\\\Users\\\\user'"
      ]
     },
     "execution_count": 8,
     "metadata": {},
     "output_type": "execute_result"
    }
   ],
   "source": [
    "%pwd"
   ]
  },
  {
   "cell_type": "code",
   "execution_count": 9,
   "metadata": {},
   "outputs": [
    {
     "name": "stdout",
     "output_type": "stream",
     "text": [
      "Wall time: 3 s\n"
     ]
    }
   ],
   "source": [
    "from time import sleep\n",
    "%time sleep(3)"
   ]
  },
  {
   "cell_type": "code",
   "execution_count": 22,
   "metadata": {},
   "outputs": [
    {
     "name": "stdout",
     "output_type": "stream",
     "text": [
      "Wall time: 0 ns\n"
     ]
    },
    {
     "data": {
      "text/plain": [
       "49995000"
      ]
     },
     "execution_count": 22,
     "metadata": {},
     "output_type": "execute_result"
    }
   ],
   "source": [
    "%time sum(range(10000))"
   ]
  },
  {
   "cell_type": "code",
   "execution_count": 19,
   "metadata": {},
   "outputs": [
    {
     "name": "stdout",
     "output_type": "stream",
     "text": [
      "155 µs ± 195 ns per loop (mean ± std. dev. of 7 runs, 10000 loops each)\n"
     ]
    }
   ],
   "source": [
    "%timeit sum(range(10000))"
   ]
  },
  {
   "cell_type": "code",
   "execution_count": 20,
   "metadata": {},
   "outputs": [
    {
     "name": "stdout",
     "output_type": "stream",
     "text": [
      "156 µs ± 584 ns per loop (mean ± std. dev. of 5 runs, 2000 loops each)\n"
     ]
    }
   ],
   "source": [
    "%timeit -n 2000 -r 5 sum(range(10000))"
   ]
  },
  {
   "cell_type": "code",
   "execution_count": 21,
   "metadata": {},
   "outputs": [
    {
     "name": "stdout",
     "output_type": "stream",
     "text": [
      "414 µs ± 845 ns per loop (mean ± std. dev. of 3 runs, 1000 loops each)\n"
     ]
    }
   ],
   "source": [
    "%%timeit -n 1000 -r 3\n",
    "s = 0\n",
    "for i in range(10000):\n",
    "    s += i"
   ]
  },
  {
   "cell_type": "code",
   "execution_count": 10,
   "metadata": {},
   "outputs": [
    {
     "name": "stdout",
     "output_type": "stream",
     "text": [
      " C 드라이브의 볼륨에는 이름이 없습니다.\n",
      " 볼륨 일련 번호: FCA9-4CEF\n",
      "\n",
      " C:\\Users\\user 디렉터리\n",
      "\n",
      "2019-09-10  오후 10:03    <DIR>          .\n",
      "2019-09-10  오후 10:03    <DIR>          ..\n",
      "2019-09-06  오후 10:23    <DIR>          .conda\n",
      "2019-09-09  오전 10:35    <DIR>          .config\n",
      "2019-09-06  오후 10:33    <DIR>          .idlerc\n",
      "2019-09-10  오후 09:12    <DIR>          .ipynb_checkpoints\n",
      "2019-09-06  오후 10:24    <DIR>          .ipython\n",
      "2019-09-10  오후 09:13    <DIR>          .jupyter\n",
      "2019-09-07  오후 11:41    <DIR>          .matplotlib\n",
      "2019-09-09  오전 10:36    <DIR>          .spyder-py3\n",
      "2019-09-04  오전 09:08    <DIR>          3D Objects\n",
      "2019-09-06  오후 10:20    <DIR>          Anaconda3\n",
      "2019-09-04  오전 09:08    <DIR>          Contacts\n",
      "2019-09-04  오전 09:08    <DIR>          Desktop\n",
      "2019-09-06  오후 09:27    <DIR>          Documents\n",
      "2019-09-04  오전 09:08    <DIR>          Downloads\n",
      "2019-09-10  오후 09:23    <DIR>          Favorites\n",
      "2019-05-24  오후 01:55    <DIR>          Intel\n",
      "2019-09-04  오전 09:08    <DIR>          Links\n",
      "2019-09-04  오전 09:08    <DIR>          Music\n",
      "2019-09-04  오후 09:00    <DIR>          OneDrive\n",
      "2019-09-04  오전 09:08    <DIR>          Pictures\n",
      "2019-09-04  오전 09:08    <DIR>          Saved Games\n",
      "2019-09-08  오후 04:52    <DIR>          seaborn-data\n",
      "2019-09-04  오전 09:08    <DIR>          Searches\n",
      "2019-09-06  오후 10:24                72 Untitled.ipynb\n",
      "2019-09-06  오후 10:35                72 Untitled1.ipynb\n",
      "2019-09-10  오후 10:03             5,375 Untitled2.ipynb\n",
      "2019-09-04  오전 09:08    <DIR>          Videos\n",
      "               3개 파일               5,519 바이트\n",
      "              26개 디렉터리  169,890,148,352 바이트 남음\n"
     ]
    }
   ],
   "source": [
    "%ls"
   ]
  },
  {
   "cell_type": "markdown",
   "metadata": {},
   "source": [
    "12. 라인넘버 표시"
   ]
  },
  {
   "cell_type": "markdown",
   "metadata": {},
   "source": [
    "명령모드에서 L 키를 누름"
   ]
  },
  {
   "cell_type": "code",
   "execution_count": null,
   "metadata": {},
   "outputs": [],
   "source": [
    "a = 1\n",
    "b = 1\n",
    "c = 4\n",
    "d = 6"
   ]
  },
  {
   "cell_type": "code",
   "execution_count": null,
   "metadata": {},
   "outputs": [],
   "source": []
  }
 ],
 "metadata": {
  "kernelspec": {
   "display_name": "Python [conda env:pyLab37] *",
   "language": "python",
   "name": "conda-env-pyLab37-py"
  },
  "language_info": {
   "codemirror_mode": {
    "name": "ipython",
    "version": 3
   },
   "file_extension": ".py",
   "mimetype": "text/x-python",
   "name": "python",
   "nbconvert_exporter": "python",
   "pygments_lexer": "ipython3",
   "version": "3.7.3"
  }
 },
 "nbformat": 4,
 "nbformat_minor": 2
}
