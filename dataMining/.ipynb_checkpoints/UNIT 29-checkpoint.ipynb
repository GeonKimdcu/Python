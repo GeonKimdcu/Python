{
 "cells": [
  {
   "cell_type": "markdown",
   "metadata": {},
   "source": [
    "# UNIT 29 배열 저장하고 읽기"
   ]
  },
  {
   "cell_type": "markdown",
   "metadata": {},
   "source": [
    "### save(file, arr)\n",
    " - .npy 파일에 배열을 저장"
   ]
  },
  {
   "cell_type": "markdown",
   "metadata": {},
   "source": [
    "### load(file)\n",
    "- .npy 파일에서 저장한 배열을 읽어 옴"
   ]
  },
  {
   "cell_type": "code",
   "execution_count": 3,
   "metadata": {},
   "outputs": [],
   "source": [
    "sap = np.array([\"MMM\", \"ABT\", \"ABBV\", \"ACN\", \n",
    "                \"ACE\", \"ATVI\", \"ADBE\", \"ADT\"])"
   ]
  },
  {
   "cell_type": "code",
   "execution_count": 5,
   "metadata": {},
   "outputs": [
    {
     "data": {
      "text/plain": [
       "array(['MMM', 'ABT', 'ABBV', 'ACN', 'ACE', 'ATVI', 'ADBE', 'ADT'],\n",
       "      dtype='<U4')"
      ]
     },
     "execution_count": 5,
     "metadata": {},
     "output_type": "execute_result"
    }
   ],
   "source": [
    "import numpy as np\n",
    "\n",
    "np.save(\"sap.npy\", sap)  # .npy파일에 sap배열을 저장\n",
    "sap_copy = np.load(\"sap.npy\")  # .npy 파일에서 저장한 배열을 로드\n",
    "sap_copy"
   ]
  },
  {
   "cell_type": "markdown",
   "metadata": {},
   "source": [
    "### savez(file, 변수명 1 = arr1, 변수명 2 = arr2...)\n",
    "- .npy 파일에 여러 배열을 저장"
   ]
  },
  {
   "cell_type": "code",
   "execution_count": 13,
   "metadata": {},
   "outputs": [
    {
     "name": "stdout",
     "output_type": "stream",
     "text": [
      "[]\n",
      "[]\n",
      "['data1', 'data2']\n",
      "[1 2 3]\n",
      "[10 20 30]\n"
     ]
    }
   ],
   "source": [
    "data1 = np.array([1,2,3])\n",
    "data2 = np.array([10, 20, 30])\n",
    "\n",
    "np.savez('datafile2.npz', data1=data1, data2=data2) # 저장\n",
    "\n",
    "data1 = [] # 데이터 삭제\n",
    "data2 = []\n",
    "print(data1) # 실제 []로 출력(비어있는 배열)\n",
    "print(data2)\n",
    "\n",
    "outfile = np.load('datafile2.npz') # 읽기\n",
    "print(outfile.files) # 저장된 데이터 확인\n",
    "# ['data1', 'data2'] 출력\n",
    "\n",
    "data1 = outfile['data1'] # data1 꺼내기\n",
    "print(data1)\n",
    "# [1 2 3] 출력\n",
    "\n",
    "data2 = outfile['data2'] # data2 꺼내기\n",
    "print(data2)\n",
    "# [10 20 30] 출력"
   ]
  },
  {
   "cell_type": "markdown",
   "metadata": {},
   "source": [
    "### loadtxt( )와 savetxt( ) \n",
    "- 각각 텍스트 파일에서 테이블형 데이터를 불러오고, 배열을 텍스트 파일에 저장함\n",
    "- np.savetxt(file, 데이터, delimiter=' '...)\n",
    "- np.loadtxt(file, delimiter=' ', skiprows=0, comments='#'...)\n",
    "- 디폴트로 스페이스를 구분자로 사용, 만약 콤마를 사용하려면 delimiter = ','로 지정해야 함\n",
    "- 옵션 skiprows는 처음 몇 개의 행을 무시할 것인지 지정\n",
    "- 옵션 comment는 comments 문자를 지정"
   ]
  },
  {
   "cell_type": "code",
   "execution_count": 15,
   "metadata": {},
   "outputs": [
    {
     "data": {
      "text/plain": [
       "array([[0., 1., 2.],\n",
       "       [3., 4., 5.],\n",
       "       [6., 7., 8.]])"
      ]
     },
     "execution_count": 15,
     "metadata": {},
     "output_type": "execute_result"
    }
   ],
   "source": [
    "# 2차원 배열 저장 예제\n",
    "\n",
    "import numpy as np\n",
    "\n",
    "x = np.arange(9).reshape(3,3)\n",
    "np.savetxt('array.txt', x)\n",
    "y = np.loadtxt('array.txt')\n",
    "y"
   ]
  }
 ],
 "metadata": {
  "kernelspec": {
   "display_name": "Python [conda env:pyLab36] *",
   "language": "python",
   "name": "conda-env-pyLab36-py"
  },
  "language_info": {
   "codemirror_mode": {
    "name": "ipython",
    "version": 3
   },
   "file_extension": ".py",
   "mimetype": "text/x-python",
   "name": "python",
   "nbconvert_exporter": "python",
   "pygments_lexer": "ipython3",
   "version": "3.6.9"
  }
 },
 "nbformat": 4,
 "nbformat_minor": 2
}
