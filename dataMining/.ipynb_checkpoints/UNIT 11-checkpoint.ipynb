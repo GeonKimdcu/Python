{
 "cells": [
  {
   "cell_type": "markdown",
   "metadata": {},
   "source": [
    "# UNIT 11 파일과 기타 스트링 다루기"
   ]
  },
  {
   "cell_type": "markdown",
   "metadata": {},
   "source": [
    "#### ubuntu 파일 만들기"
   ]
  },
  {
   "cell_type": "markdown",
   "metadata": {},
   "source": [
    "1. touch 파일명.확장자 하면 파일 생성\n",
    "2. mkdir 폴더명 하면 폴더생성\n",
    "3. cd .. 하면 부모디렉토리로 이동"
   ]
  },
  {
   "cell_type": "markdown",
   "metadata": {},
   "source": [
    "### 글로빙(globbing)"
   ]
  },
  {
   "cell_type": "code",
   "execution_count": 8,
   "metadata": {},
   "outputs": [
    {
     "data": {
      "text/plain": [
       "['ex.txt']"
      ]
     },
     "execution_count": 8,
     "metadata": {},
     "output_type": "execute_result"
    }
   ],
   "source": [
    "# 특정한 패턴이나 확장자를 가진 파일들의 경로나 이름이 필요할 경우\n",
    "import glob\n",
    "glob.glob(\"*.txt\") # .txt 확장자인 파일을 찾아줌\n",
    "# * <= 애스터리스크는 모든 파일을 의미"
   ]
  },
  {
   "cell_type": "code",
   "execution_count": 7,
   "metadata": {
    "scrolled": false
   },
   "outputs": [
    {
     "name": "stdout",
     "output_type": "stream",
     "text": [
      "figure1.jpg\n",
      "figure/figure1.jpg\n",
      "figure/figure2.jpg\n",
      "figure/subfigure/subfigure2.jpg\n",
      "figure/subfigure/subfigure1.jpg\n"
     ]
    }
   ],
   "source": [
    "import glob\n",
    "\n",
    "for filename in glob.glob('**/*.jpg',recursive = True):\n",
    "    print(filename)\n",
    "    \n",
    "# recursive = T는 하위폴더까지 탐색하게끔 해줌"
   ]
  },
  {
   "cell_type": "code",
   "execution_count": null,
   "metadata": {},
   "outputs": [],
   "source": []
  }
 ],
 "metadata": {
  "kernelspec": {
   "display_name": "Python [conda env:pyLab36] *",
   "language": "python",
   "name": "conda-env-pyLab36-py"
  },
  "language_info": {
   "codemirror_mode": {
    "name": "ipython",
    "version": 3
   },
   "file_extension": ".py",
   "mimetype": "text/x-python",
   "name": "python",
   "nbconvert_exporter": "python",
   "pygments_lexer": "ipython3",
   "version": "3.6.9"
  }
 },
 "nbformat": 4,
 "nbformat_minor": 2
}
